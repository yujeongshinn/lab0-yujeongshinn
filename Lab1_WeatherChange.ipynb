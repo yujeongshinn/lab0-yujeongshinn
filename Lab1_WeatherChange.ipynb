{
  "nbformat": 4,
  "nbformat_minor": 0,
  "metadata": {
    "colab": {
      "name": "Lab1_WeatherChange.ipynb",
      "provenance": [],
      "toc_visible": true,
      "authorship_tag": "ABX9TyOYLwTsH10Dw8MGDKP3RKxX",
      "include_colab_link": true
    },
    "kernelspec": {
      "name": "python3",
      "display_name": "Python 3"
    }
  },
  "cells": [
    {
      "cell_type": "markdown",
      "metadata": {
        "id": "view-in-github",
        "colab_type": "text"
      },
      "source": [
        "<a href=\"https://colab.research.google.com/github/yujeongshinn/lab0-yujeongshinn/blob/master/Lab1_WeatherChange.ipynb\" target=\"_parent\"><img src=\"https://colab.research.google.com/assets/colab-badge.svg\" alt=\"Open In Colab\"/></a>"
      ]
    },
    {
      "cell_type": "code",
      "metadata": {
        "id": "uOIpRs1MpdFl",
        "colab_type": "code",
        "colab": {}
      },
      "source": [
        ""
      ],
      "execution_count": null,
      "outputs": []
    },
    {
      "cell_type": "markdown",
      "metadata": {
        "id": "lO_5fsgoqEsI",
        "colab_type": "text"
      },
      "source": [
        "# **TEXT CELL!!**\n",
        "1. List item 1\n",
        "2. List item 2\n"
      ]
    },
    {
      "cell_type": "markdown",
      "metadata": {
        "id": "yzv9HMTIvXrV",
        "colab_type": "text"
      },
      "source": [
        "# Introduction\n",
        "* YujeongShin\n",
        "* Incheong National University/ Department of Environmental and Energy Engineering\n",
        "* Filter recycle\n",
        "* 23/09/2020\n"
      ]
    },
    {
      "cell_type": "code",
      "metadata": {
        "id": "LbKWMm4fqaFz",
        "colab_type": "code",
        "colab": {
          "base_uri": "https://localhost:8080/",
          "height": 36
        },
        "outputId": "0bc793de-436c-4aaf-b5eb-9a34ff6fa0f7"
      },
      "source": [
        "a = 11\n",
        "b = 12\n",
        "print (a + b)"
      ],
      "execution_count": 2,
      "outputs": [
        {
          "output_type": "stream",
          "text": [
            "23\n"
          ],
          "name": "stdout"
        }
      ]
    },
    {
      "cell_type": "code",
      "metadata": {
        "id": "wapsHI1Grn8b",
        "colab_type": "code",
        "colab": {
          "base_uri": "https://localhost:8080/",
          "height": 36
        },
        "outputId": "558f3824-c225-4cc6-a557-82704590b317"
      },
      "source": [
        "a += 1\n",
        "print (a + b)"
      ],
      "execution_count": 4,
      "outputs": [
        {
          "output_type": "stream",
          "text": [
            "25\n"
          ],
          "name": "stdout"
        }
      ]
    },
    {
      "cell_type": "code",
      "metadata": {
        "id": "6kfYbNhsxUj-",
        "colab_type": "code",
        "colab": {
          "base_uri": "https://localhost:8080/",
          "height": 36
        },
        "outputId": "76aff19b-b856-4fb6-e452-ef3198384fe3"
      },
      "source": [
        "from google.colab import drive\n",
        "drive.mount('/content/drive')"
      ],
      "execution_count": 7,
      "outputs": [
        {
          "output_type": "stream",
          "text": [
            "Mounted at /content/drive\n"
          ],
          "name": "stdout"
        }
      ]
    },
    {
      "cell_type": "code",
      "metadata": {
        "id": "MFhFeSgUyX37",
        "colab_type": "code",
        "colab": {
          "base_uri": "https://localhost:8080/",
          "height": 36
        },
        "outputId": "f6313ee1-f39f-4b9c-dd05-e3f8dd467955"
      },
      "source": [
        "!pwd"
      ],
      "execution_count": 8,
      "outputs": [
        {
          "output_type": "stream",
          "text": [
            "/content\n"
          ],
          "name": "stdout"
        }
      ]
    },
    {
      "cell_type": "code",
      "metadata": {
        "id": "dfyLmY6LycWA",
        "colab_type": "code",
        "colab": {
          "base_uri": "https://localhost:8080/",
          "height": 36
        },
        "outputId": "09f053bf-158e-483a-c600-123b9edab673"
      },
      "source": [
        "!ls 'drive/My Drive/Colab Notebooks'"
      ],
      "execution_count": 9,
      "outputs": [
        {
          "output_type": "stream",
          "text": [
            "Lab1_WeatherChange.ipynb\n"
          ],
          "name": "stdout"
        }
      ]
    }
  ]
}