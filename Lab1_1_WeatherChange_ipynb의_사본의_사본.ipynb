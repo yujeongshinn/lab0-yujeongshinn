{
  "nbformat": 4,
  "nbformat_minor": 0,
  "metadata": {
    "colab": {
      "name": "Lab1.1_WeatherChange.ipynb의 사본의 사본",
      "provenance": [],
      "collapsed_sections": [],
      "include_colab_link": true
    },
    "kernelspec": {
      "name": "python3",
      "display_name": "Python 3"
    }
  },
  "cells": [
    {
      "cell_type": "markdown",
      "metadata": {
        "id": "view-in-github",
        "colab_type": "text"
      },
      "source": [
        "<a href=\"https://colab.research.google.com/github/yujeongshinn/lab0-yujeongshinn/blob/master/Lab1_1_WeatherChange_ipynb%EC%9D%98_%EC%82%AC%EB%B3%B8%EC%9D%98_%EC%82%AC%EB%B3%B8.ipynb\" target=\"_parent\"><img src=\"https://colab.research.google.com/assets/colab-badge.svg\" alt=\"Open In Colab\"/></a>"
      ]
    },
    {
      "cell_type": "markdown",
      "metadata": {
        "id": "9zDPadTUqgRp"
      },
      "source": [
        "# Introduction to Modeling of Estimation for Weather Change Class"
      ]
    },
    {
      "cell_type": "markdown",
      "metadata": {
        "id": "QiXRNAWbgNFH"
      },
      "source": [
        "# Laboratory #1\n",
        "# **Name: YujeongShin**\n",
        "*   Incheon National University/ Department of Environmental and Energy Engineering\n",
        "*   Filter recycle\n",
        "*   September 24th 2020"
      ]
    },
    {
      "cell_type": "code",
      "metadata": {
        "id": "lbqhO6aOf7na",
        "outputId": "9bb0244e-3a0c-419c-d091-5a8559336d10",
        "colab": {
          "base_uri": "https://localhost:8080/",
          "height": 36
        }
      },
      "source": [
        "a = 11\n",
        "b = 12 \n",
        "print (a + b)"
      ],
      "execution_count": null,
      "outputs": [
        {
          "output_type": "stream",
          "text": [
            "23\n"
          ],
          "name": "stdout"
        }
      ]
    },
    {
      "cell_type": "code",
      "metadata": {
        "id": "G3PJKUxwgjYf",
        "outputId": "820055ca-b631-4f32-dcd2-b296d6b17a00",
        "colab": {
          "base_uri": "https://localhost:8080/",
          "height": 34
        }
      },
      "source": [
        "a += 1\n",
        "print (a + b)"
      ],
      "execution_count": null,
      "outputs": [
        {
          "output_type": "stream",
          "text": [
            "25\n"
          ],
          "name": "stdout"
        }
      ]
    },
    {
      "cell_type": "code",
      "metadata": {
        "id": "iVNzm8PCfUEf",
        "outputId": "0936080b-0475-4344-d74c-2b0bf4c94479",
        "colab": {
          "base_uri": "https://localhost:8080/",
          "height": 36
        }
      },
      "source": [
        "from google.colab import drive\n",
        "drive.mount('/content/drive')"
      ],
      "execution_count": null,
      "outputs": [
        {
          "output_type": "stream",
          "text": [
            "Mounted at /content/drive\n"
          ],
          "name": "stdout"
        }
      ]
    },
    {
      "cell_type": "code",
      "metadata": {
        "id": "lFOvs6XxgZfa",
        "outputId": "f8fbabfe-bc13-47eb-d9b5-71bf8f0a782f",
        "colab": {
          "base_uri": "https://localhost:8080/",
          "height": 34
        }
      },
      "source": [
        "!pwd"
      ],
      "execution_count": null,
      "outputs": [
        {
          "output_type": "stream",
          "text": [
            "/content\n"
          ],
          "name": "stdout"
        }
      ]
    },
    {
      "cell_type": "code",
      "metadata": {
        "id": "FB_DXSl3goei",
        "outputId": "d29807d8-5d46-4945-d9b1-5aefb1ab1ec0",
        "colab": {
          "base_uri": "https://localhost:8080/",
          "height": 36
        }
      },
      "source": [
        "!ls 'drive/My Drive/Colab Notebooks'"
      ],
      "execution_count": null,
      "outputs": [
        {
          "output_type": "stream",
          "text": [
            "Lab1_WeatherChange.ipynb  Untitled0.ipynb\n"
          ],
          "name": "stdout"
        }
      ]
    },
    {
      "cell_type": "markdown",
      "metadata": {
        "id": "Da1Nc5u_5xFw"
      },
      "source": [
        "\n",
        "# Data types\n",
        "## Numbers\n"
      ]
    },
    {
      "cell_type": "code",
      "metadata": {
        "id": "iWJu8UAg5-mB",
        "outputId": "5ed48a09-5d7b-47ef-b455-6b406e9662fb",
        "colab": {
          "base_uri": "https://localhost:8080/",
          "height": 36
        }
      },
      "source": [
        "1+1"
      ],
      "execution_count": null,
      "outputs": [
        {
          "output_type": "execute_result",
          "data": {
            "text/plain": [
              "2"
            ]
          },
          "metadata": {
            "tags": []
          },
          "execution_count": 1
        }
      ]
    },
    {
      "cell_type": "code",
      "metadata": {
        "id": "kGBB0h7f6FKw",
        "outputId": "7fd845d3-fb70-4cda-95e1-2885e076b14e",
        "colab": {
          "base_uri": "https://localhost:8080/",
          "height": 36
        }
      },
      "source": [
        "2-3"
      ],
      "execution_count": null,
      "outputs": [
        {
          "output_type": "execute_result",
          "data": {
            "text/plain": [
              "-1"
            ]
          },
          "metadata": {
            "tags": []
          },
          "execution_count": 2
        }
      ]
    },
    {
      "cell_type": "code",
      "metadata": {
        "id": "Ybcb4sSo6JLT",
        "outputId": "51dc5376-0cf2-471d-cf09-431460b9e8e0",
        "colab": {
          "base_uri": "https://localhost:8080/",
          "height": 36
        }
      },
      "source": [
        "1*3"
      ],
      "execution_count": null,
      "outputs": [
        {
          "output_type": "execute_result",
          "data": {
            "text/plain": [
              "3"
            ]
          },
          "metadata": {
            "tags": []
          },
          "execution_count": 3
        }
      ]
    },
    {
      "cell_type": "code",
      "metadata": {
        "id": "_k-zgkRF6L9y",
        "outputId": "36fc6006-8926-470f-efc5-8f22c6b3c353",
        "colab": {
          "base_uri": "https://localhost:8080/",
          "height": 36
        }
      },
      "source": [
        "2 / 5"
      ],
      "execution_count": null,
      "outputs": [
        {
          "output_type": "execute_result",
          "data": {
            "text/plain": [
              "0.4"
            ]
          },
          "metadata": {
            "tags": []
          },
          "execution_count": 4
        }
      ]
    },
    {
      "cell_type": "code",
      "metadata": {
        "id": "y5mNtgC76QeV",
        "outputId": "06b78521-1e98-4dc3-ad0e-01d8d7d8b94d",
        "colab": {
          "base_uri": "https://localhost:8080/",
          "height": 36
        }
      },
      "source": [
        "2 ** 4"
      ],
      "execution_count": null,
      "outputs": [
        {
          "output_type": "execute_result",
          "data": {
            "text/plain": [
              "16"
            ]
          },
          "metadata": {
            "tags": []
          },
          "execution_count": 5
        }
      ]
    },
    {
      "cell_type": "code",
      "metadata": {
        "id": "ZVW6aIwZ6VLi",
        "outputId": "53fe2b39-7d08-489b-b36c-45cd36253a71",
        "colab": {
          "base_uri": "https://localhost:8080/",
          "height": 36
        }
      },
      "source": [
        "5%2"
      ],
      "execution_count": null,
      "outputs": [
        {
          "output_type": "execute_result",
          "data": {
            "text/plain": [
              "1"
            ]
          },
          "metadata": {
            "tags": []
          },
          "execution_count": 6
        }
      ]
    },
    {
      "cell_type": "code",
      "metadata": {
        "id": "nkCvPoUz6cNi",
        "outputId": "da39be30-c9bd-44ce-8af7-68fb7e1e34fe",
        "colab": {
          "base_uri": "https://localhost:8080/",
          "height": 36
        }
      },
      "source": [
        "(2+3)*(4/2)"
      ],
      "execution_count": null,
      "outputs": [
        {
          "output_type": "execute_result",
          "data": {
            "text/plain": [
              "10.0"
            ]
          },
          "metadata": {
            "tags": []
          },
          "execution_count": 7
        }
      ]
    },
    {
      "cell_type": "code",
      "metadata": {
        "id": "JrbKefcQ6md0",
        "outputId": "c163686a-eecb-4f4e-dbac-e2107efdf006",
        "colab": {
          "base_uri": "https://localhost:8080/",
          "height": 36
        }
      },
      "source": [
        "type(1.2)"
      ],
      "execution_count": null,
      "outputs": [
        {
          "output_type": "execute_result",
          "data": {
            "text/plain": [
              "float"
            ]
          },
          "metadata": {
            "tags": []
          },
          "execution_count": 8
        }
      ]
    },
    {
      "cell_type": "code",
      "metadata": {
        "id": "_pG2Gd1B6p1K",
        "outputId": "9df7ef18-6bec-4d70-990a-3a3db4bc899b",
        "colab": {
          "base_uri": "https://localhost:8080/",
          "height": 36
        }
      },
      "source": [
        "type(8)"
      ],
      "execution_count": null,
      "outputs": [
        {
          "output_type": "execute_result",
          "data": {
            "text/plain": [
              "int"
            ]
          },
          "metadata": {
            "tags": []
          },
          "execution_count": 9
        }
      ]
    },
    {
      "cell_type": "code",
      "metadata": {
        "id": "nelPICJ-6wpD",
        "outputId": "e86541ab-5c3d-4750-c29c-ef1cb7de1009",
        "colab": {
          "base_uri": "https://localhost:8080/",
          "height": 36
        }
      },
      "source": [
        "type(float(3))"
      ],
      "execution_count": null,
      "outputs": [
        {
          "output_type": "execute_result",
          "data": {
            "text/plain": [
              "float"
            ]
          },
          "metadata": {
            "tags": []
          },
          "execution_count": 10
        }
      ]
    },
    {
      "cell_type": "markdown",
      "metadata": {
        "id": "75r8IbIK60DV"
      },
      "source": [
        "##Variable Assigment\n"
      ]
    },
    {
      "cell_type": "code",
      "metadata": {
        "id": "KxhUbraD69z4"
      },
      "source": [
        "# Cannot start a variable with a number\n",
        "s12 = 1"
      ],
      "execution_count": null,
      "outputs": []
    },
    {
      "cell_type": "code",
      "metadata": {
        "id": "m8Kh4XEi7NC6"
      },
      "source": [
        "x = 2\n",
        "y = 3"
      ],
      "execution_count": null,
      "outputs": []
    },
    {
      "cell_type": "code",
      "metadata": {
        "id": "RGfWnnF27Q1Y"
      },
      "source": [
        "z = x + y"
      ],
      "execution_count": null,
      "outputs": []
    },
    {
      "cell_type": "code",
      "metadata": {
        "id": "19S8sZSd7cZ_",
        "outputId": "c6018589-d4ad-4589-e022-c9a0f446c5ac",
        "colab": {
          "base_uri": "https://localhost:8080/",
          "height": 36
        }
      },
      "source": [
        "print(z)"
      ],
      "execution_count": null,
      "outputs": [
        {
          "output_type": "stream",
          "text": [
            "5\n"
          ],
          "name": "stdout"
        }
      ]
    },
    {
      "cell_type": "code",
      "metadata": {
        "id": "RuY4qb3L7qxl",
        "outputId": "a4211e89-034f-47bc-83d5-3a019c01e173",
        "colab": {
          "base_uri": "https://localhost:8080/",
          "height": 36
        }
      },
      "source": [
        "s12"
      ],
      "execution_count": null,
      "outputs": [
        {
          "output_type": "execute_result",
          "data": {
            "text/plain": [
              "1"
            ]
          },
          "metadata": {
            "tags": []
          },
          "execution_count": 23
        }
      ]
    },
    {
      "cell_type": "code",
      "metadata": {
        "id": "iRoPbn4t7upO",
        "outputId": "753e78cc-6ab2-4844-8c77-fe0529054527",
        "colab": {
          "base_uri": "https://localhost:8080/",
          "height": 36
        }
      },
      "source": [
        "id(x)"
      ],
      "execution_count": null,
      "outputs": [
        {
          "output_type": "execute_result",
          "data": {
            "text/plain": [
              "10914528"
            ]
          },
          "metadata": {
            "tags": []
          },
          "execution_count": 24
        }
      ]
    },
    {
      "cell_type": "code",
      "metadata": {
        "id": "ViTShhjA7xZk",
        "outputId": "020867e1-51fe-462e-fe1c-2a8ec770ac30",
        "colab": {
          "base_uri": "https://localhost:8080/",
          "height": 36
        }
      },
      "source": [
        "id(y)"
      ],
      "execution_count": null,
      "outputs": [
        {
          "output_type": "execute_result",
          "data": {
            "text/plain": [
              "10914560"
            ]
          },
          "metadata": {
            "tags": []
          },
          "execution_count": 25
        }
      ]
    },
    {
      "cell_type": "code",
      "metadata": {
        "id": "yfN2nxE_70bZ"
      },
      "source": [
        "y = x"
      ],
      "execution_count": null,
      "outputs": []
    },
    {
      "cell_type": "code",
      "metadata": {
        "id": "zps8UPgN8fTM",
        "outputId": "4ff9ee72-5974-4890-dfe9-0a6edfcd435f",
        "colab": {
          "base_uri": "https://localhost:8080/",
          "height": 176
        }
      },
      "source": [
        "del(y)"
      ],
      "execution_count": null,
      "outputs": [
        {
          "output_type": "error",
          "ename": "NameError",
          "evalue": "ignored",
          "traceback": [
            "\u001b[0;31m---------------------------------------------------------------------------\u001b[0m",
            "\u001b[0;31mNameError\u001b[0m                                 Traceback (most recent call last)",
            "\u001b[0;32m<ipython-input-29-979e9409c9ea>\u001b[0m in \u001b[0;36m<module>\u001b[0;34m()\u001b[0m\n\u001b[0;32m----> 1\u001b[0;31m \u001b[0;32mdel\u001b[0m\u001b[0;34m(\u001b[0m\u001b[0my\u001b[0m\u001b[0;34m)\u001b[0m\u001b[0;34m\u001b[0m\u001b[0;34m\u001b[0m\u001b[0m\n\u001b[0m",
            "\u001b[0;31mNameError\u001b[0m: name 'y' is not defined"
          ]
        }
      ]
    },
    {
      "cell_type": "code",
      "metadata": {
        "id": "cijb6z_h8krk",
        "outputId": "c50887c7-2992-46bc-ae11-c12aa745aae6",
        "colab": {
          "base_uri": "https://localhost:8080/",
          "height": 176
        }
      },
      "source": [
        "y"
      ],
      "execution_count": null,
      "outputs": [
        {
          "output_type": "error",
          "ename": "NameError",
          "evalue": "ignored",
          "traceback": [
            "\u001b[0;31m---------------------------------------------------------------------------\u001b[0m",
            "\u001b[0;31mNameError\u001b[0m                                 Traceback (most recent call last)",
            "\u001b[0;32m<ipython-input-30-9063a9f0e032>\u001b[0m in \u001b[0;36m<module>\u001b[0;34m()\u001b[0m\n\u001b[0;32m----> 1\u001b[0;31m \u001b[0my\u001b[0m\u001b[0;34m\u001b[0m\u001b[0;34m\u001b[0m\u001b[0m\n\u001b[0m",
            "\u001b[0;31mNameError\u001b[0m: name 'y' is not defined"
          ]
        }
      ]
    },
    {
      "cell_type": "markdown",
      "metadata": {
        "id": "X3IxEZAH8nK-"
      },
      "source": [
        "## String\n"
      ]
    },
    {
      "cell_type": "code",
      "metadata": {
        "id": "p8LCpD6R8pwQ",
        "outputId": "8516be3e-93a5-44eb-f14f-d4815d1c276b",
        "colab": {
          "base_uri": "https://localhost:8080/",
          "height": 36
        }
      },
      "source": [
        "'single quotes'"
      ],
      "execution_count": null,
      "outputs": [
        {
          "output_type": "execute_result",
          "data": {
            "application/vnd.google.colaboratory.intrinsic+json": {
              "type": "string"
            },
            "text/plain": [
              "'single quotes'"
            ]
          },
          "metadata": {
            "tags": []
          },
          "execution_count": 31
        }
      ]
    },
    {
      "cell_type": "code",
      "metadata": {
        "id": "wLtgRhnm8t1q",
        "outputId": "7d2076f5-b748-4624-b1f8-a62847cfb38f",
        "colab": {
          "base_uri": "https://localhost:8080/",
          "height": 36
        }
      },
      "source": [
        "\"double quotes\""
      ],
      "execution_count": null,
      "outputs": [
        {
          "output_type": "execute_result",
          "data": {
            "application/vnd.google.colaboratory.intrinsic+json": {
              "type": "string"
            },
            "text/plain": [
              "'double quotes'"
            ]
          },
          "metadata": {
            "tags": []
          },
          "execution_count": 32
        }
      ]
    },
    {
      "cell_type": "code",
      "metadata": {
        "id": "Z_PEyDKD8y7N",
        "outputId": "9b16cf1d-4217-4bac-be23-0daf29919a70",
        "colab": {
          "base_uri": "https://localhost:8080/",
          "height": 36
        }
      },
      "source": [
        "\" let's begging \""
      ],
      "execution_count": null,
      "outputs": [
        {
          "output_type": "execute_result",
          "data": {
            "application/vnd.google.colaboratory.intrinsic+json": {
              "type": "string"
            },
            "text/plain": [
              "\" let's begging \""
            ]
          },
          "metadata": {
            "tags": []
          },
          "execution_count": 33
        }
      ]
    },
    {
      "cell_type": "code",
      "metadata": {
        "id": "cmhdWJ3n87v9"
      },
      "source": [
        "my_string = \"\"\" Hello welcom to \n",
        "             the 5th week\"\"\" "
      ],
      "execution_count": null,
      "outputs": []
    },
    {
      "cell_type": "code",
      "metadata": {
        "id": "wUpilwin9LC3",
        "outputId": "dcb4b80c-8e18-41d3-a5bc-16002f6a7ba0",
        "colab": {
          "base_uri": "https://localhost:8080/",
          "height": 55
        }
      },
      "source": [
        "print(my_string)"
      ],
      "execution_count": null,
      "outputs": [
        {
          "output_type": "stream",
          "text": [
            " Hello welcom to \n",
            "             the 5th week\n"
          ],
          "name": "stdout"
        }
      ]
    },
    {
      "cell_type": "code",
      "metadata": {
        "id": "6VmjJjxclpQm"
      },
      "source": [
        "st= \"Modeling of estimation for weather change\""
      ],
      "execution_count": null,
      "outputs": []
    },
    {
      "cell_type": "code",
      "metadata": {
        "id": "_WRe_3V3mbtg",
        "outputId": "36edcb9d-085a-429a-94c0-1450b4ec9a95",
        "colab": {
          "base_uri": "https://localhost:8080/",
          "height": 36
        }
      },
      "source": [
        "st[-6:]"
      ],
      "execution_count": null,
      "outputs": [
        {
          "output_type": "execute_result",
          "data": {
            "application/vnd.google.colaboratory.intrinsic+json": {
              "type": "string"
            },
            "text/plain": [
              "'change'"
            ]
          },
          "metadata": {
            "tags": []
          },
          "execution_count": 13
        }
      ]
    },
    {
      "cell_type": "code",
      "metadata": {
        "id": "PC1GzI2wmlXz",
        "outputId": "28f23a86-9766-4a52-d2d0-782f6497e2d0",
        "colab": {
          "base_uri": "https://localhost:8080/",
          "height": 36
        }
      },
      "source": [
        "#Get the word \"estimation\" from st using indices\n",
        "#st = \"Modeling of estimation for weather change\"\n",
        "st[12:22] #st[start_index : end_index+1]"
      ],
      "execution_count": null,
      "outputs": [
        {
          "output_type": "execute_result",
          "data": {
            "application/vnd.google.colaboratory.intrinsic+json": {
              "type": "string"
            },
            "text/plain": [
              "'estimation'"
            ]
          },
          "metadata": {
            "tags": []
          },
          "execution_count": 19
        }
      ]
    },
    {
      "cell_type": "code",
      "metadata": {
        "id": "gGwEWab1m3o1",
        "outputId": "c635c11b-1827-491a-b7cb-f9e8f2c0f3d1",
        "colab": {
          "base_uri": "https://localhost:8080/",
          "height": 36
        }
      },
      "source": [
        "#Get the word \"weather\" from st using indices\n",
        "st[27:34]"
      ],
      "execution_count": null,
      "outputs": [
        {
          "output_type": "execute_result",
          "data": {
            "application/vnd.google.colaboratory.intrinsic+json": {
              "type": "string"
            },
            "text/plain": [
              "'weather'"
            ]
          },
          "metadata": {
            "tags": []
          },
          "execution_count": 20
        }
      ]
    },
    {
      "cell_type": "code",
      "metadata": {
        "id": "LLIcncbQnHeb",
        "outputId": "571cd762-887b-410b-b8cc-4ea7f1877ccd",
        "colab": {
          "base_uri": "https://localhost:8080/",
          "height": 36
        }
      },
      "source": [
        "len(st)"
      ],
      "execution_count": null,
      "outputs": [
        {
          "output_type": "execute_result",
          "data": {
            "text/plain": [
              "41"
            ]
          },
          "metadata": {
            "tags": []
          },
          "execution_count": 15
        }
      ]
    },
    {
      "cell_type": "code",
      "metadata": {
        "id": "jOg2o3GJnPW6",
        "outputId": "c72a3656-6b93-416a-c292-56a2b770d625",
        "colab": {
          "base_uri": "https://localhost:8080/",
          "height": 36
        }
      },
      "source": [
        "st.lower()"
      ],
      "execution_count": null,
      "outputs": [
        {
          "output_type": "execute_result",
          "data": {
            "application/vnd.google.colaboratory.intrinsic+json": {
              "type": "string"
            },
            "text/plain": [
              "'modeling of estimation for weather change'"
            ]
          },
          "metadata": {
            "tags": []
          },
          "execution_count": 16
        }
      ]
    },
    {
      "cell_type": "code",
      "metadata": {
        "id": "CA5wC5kbnSo5",
        "outputId": "9879e3e3-c4e1-4a28-afb7-613c44a01330",
        "colab": {
          "base_uri": "https://localhost:8080/",
          "height": 36
        }
      },
      "source": [
        "st.upper()"
      ],
      "execution_count": null,
      "outputs": [
        {
          "output_type": "execute_result",
          "data": {
            "application/vnd.google.colaboratory.intrinsic+json": {
              "type": "string"
            },
            "text/plain": [
              "'MODELING OF ESTIMATION FOR WEATHER CHANGE'"
            ]
          },
          "metadata": {
            "tags": []
          },
          "execution_count": 17
        }
      ]
    },
    {
      "cell_type": "code",
      "metadata": {
        "id": "pk-p96YTnYMw",
        "outputId": "3f510aff-b2d7-4159-d4dc-d46dd32c7f74",
        "colab": {
          "base_uri": "https://localhost:8080/",
          "height": 36
        }
      },
      "source": [
        "st.split(\" \")"
      ],
      "execution_count": null,
      "outputs": [
        {
          "output_type": "execute_result",
          "data": {
            "text/plain": [
              "['Modeling', 'of', 'estimation', 'for', 'weather', 'change']"
            ]
          },
          "metadata": {
            "tags": []
          },
          "execution_count": 22
        }
      ]
    },
    {
      "cell_type": "code",
      "metadata": {
        "id": "U8SEVsGcrpx4"
      },
      "source": [
        "tweet = \"Go Suwon Bluewings!!! #Bluewings\""
      ],
      "execution_count": null,
      "outputs": []
    },
    {
      "cell_type": "code",
      "metadata": {
        "id": "pT3xrwLDr8t1",
        "outputId": "f4cd427a-9671-4ee7-d3ec-114b90830297",
        "colab": {
          "base_uri": "https://localhost:8080/",
          "height": 36
        }
      },
      "source": [
        "tweet.split(\"#\")"
      ],
      "execution_count": null,
      "outputs": [
        {
          "output_type": "execute_result",
          "data": {
            "text/plain": [
              "['Go Suwon Bluewings!!! ', 'Bluewings']"
            ]
          },
          "metadata": {
            "tags": []
          },
          "execution_count": 29
        }
      ]
    },
    {
      "cell_type": "code",
      "metadata": {
        "id": "0NdwlQ7BsHtT",
        "outputId": "c2da69a4-241a-4edb-d065-3177a06b90b2",
        "colab": {
          "base_uri": "https://localhost:8080/",
          "height": 36
        }
      },
      "source": [
        "#Get \"Go suwon Bluewings!!! \" and put it in CAPITAL using tweet.split()\n",
        "tweet.split(\"#\")[0]. upper()"
      ],
      "execution_count": null,
      "outputs": [
        {
          "output_type": "execute_result",
          "data": {
            "application/vnd.google.colaboratory.intrinsic+json": {
              "type": "string"
            },
            "text/plain": [
              "'GO SUWON BLUEWINGS!!! '"
            ]
          },
          "metadata": {
            "tags": []
          },
          "execution_count": 30
        }
      ]
    },
    {
      "cell_type": "markdown",
      "metadata": {
        "id": "xOaE9YAXyh9p"
      },
      "source": [
        "## Printing"
      ]
    },
    {
      "cell_type": "code",
      "metadata": {
        "id": "tt2YMtIltdeO"
      },
      "source": [
        "x = \"Hello\""
      ],
      "execution_count": null,
      "outputs": []
    },
    {
      "cell_type": "code",
      "metadata": {
        "id": "y631j7ELthEI",
        "outputId": "a5fe07d2-d41c-4560-eaf4-130f1f3cc28a",
        "colab": {
          "base_uri": "https://localhost:8080/",
          "height": 36
        }
      },
      "source": [
        "x"
      ],
      "execution_count": null,
      "outputs": [
        {
          "output_type": "execute_result",
          "data": {
            "application/vnd.google.colaboratory.intrinsic+json": {
              "type": "string"
            },
            "text/plain": [
              "'Hello'"
            ]
          },
          "metadata": {
            "tags": []
          },
          "execution_count": 33
        }
      ]
    },
    {
      "cell_type": "code",
      "metadata": {
        "id": "RqoXz0m0tjql",
        "outputId": "1a04ba09-2abf-43e3-cca9-97d2868bc80c",
        "colab": {
          "base_uri": "https://localhost:8080/",
          "height": 36
        }
      },
      "source": [
        "print(x)"
      ],
      "execution_count": null,
      "outputs": [
        {
          "output_type": "stream",
          "text": [
            "Hello\n"
          ],
          "name": "stdout"
        }
      ]
    },
    {
      "cell_type": "code",
      "metadata": {
        "id": "kGQQxJjztnvk"
      },
      "source": [
        "num=12\n",
        "name = \"YujeongShin\""
      ],
      "execution_count": null,
      "outputs": []
    },
    {
      "cell_type": "code",
      "metadata": {
        "id": "od1pvQBRtwIi",
        "outputId": "0cfabbef-6864-48dd-e3d8-fcbe1fdd2baf",
        "colab": {
          "base_uri": "https://localhost:8080/",
          "height": 36
        }
      },
      "source": [
        "print('My number is: {one}, and my name is: {two}'.format(one=num, two=name))"
      ],
      "execution_count": null,
      "outputs": [
        {
          "output_type": "stream",
          "text": [
            "My number is: 12, and my name is: YujeongShin\n"
          ],
          "name": "stdout"
        }
      ]
    },
    {
      "cell_type": "code",
      "metadata": {
        "id": "TByDAwndvIQw",
        "outputId": "e0c6270c-c21d-4e29-88f7-1f2708fa6533",
        "colab": {
          "base_uri": "https://localhost:8080/",
          "height": 36
        }
      },
      "source": [
        "print('My number is: {}, and my name is: {}'.format(num,name))"
      ],
      "execution_count": null,
      "outputs": [
        {
          "output_type": "stream",
          "text": [
            "My number is: 12, and my name is: YujeongShin\n"
          ],
          "name": "stdout"
        }
      ]
    },
    {
      "cell_type": "code",
      "metadata": {
        "id": "Tol_ypxCvVxl",
        "outputId": "3908d3d1-dcbe-4625-e399-5570e00519d9",
        "colab": {
          "base_uri": "https://localhost:8080/",
          "height": 36
        }
      },
      "source": [
        "print('Modelingl n of ')"
      ],
      "execution_count": null,
      "outputs": [
        {
          "output_type": "stream",
          "text": [
            "Modelingl n of \n"
          ],
          "name": "stdout"
        }
      ]
    },
    {
      "cell_type": "code",
      "metadata": {
        "id": "RGwR4-Vovds6",
        "outputId": "74aff4f2-6018-41b6-840c-e9e4ac43fea4",
        "colab": {
          "base_uri": "https://localhost:8080/",
          "height": 36
        }
      },
      "source": [
        "print('weather','change',sep=' + ')"
      ],
      "execution_count": null,
      "outputs": [
        {
          "output_type": "stream",
          "text": [
            "weather + change\n"
          ],
          "name": "stdout"
        }
      ]
    },
    {
      "cell_type": "code",
      "metadata": {
        "id": "RqblFeYGvnP6",
        "outputId": "5408556f-0c88-4f46-c3fb-8335bb4d3f86",
        "colab": {
          "base_uri": "https://localhost:8080/",
          "height": 36
        }
      },
      "source": [
        "print('home','user','documents', sep='/')"
      ],
      "execution_count": null,
      "outputs": [
        {
          "output_type": "stream",
          "text": [
            "home/user/documents\n"
          ],
          "name": "stdout"
        }
      ]
    },
    {
      "cell_type": "code",
      "metadata": {
        "id": "tlUJKKGXwEV4"
      },
      "source": [
        "st2 = 'My age is ' + str(24)"
      ],
      "execution_count": null,
      "outputs": []
    },
    {
      "cell_type": "code",
      "metadata": {
        "id": "AI2S1Me6wNlk",
        "outputId": "40dae6ae-0298-4a64-f799-f222a15b4bc2",
        "colab": {
          "base_uri": "https://localhost:8080/",
          "height": 36
        }
      },
      "source": [
        "print(st2)"
      ],
      "execution_count": null,
      "outputs": [
        {
          "output_type": "stream",
          "text": [
            "My age is 24\n"
          ],
          "name": "stdout"
        }
      ]
    },
    {
      "cell_type": "code",
      "metadata": {
        "id": "Z1cdeCjwwRCa",
        "outputId": "4cf61fef-6bca-4583-cadc-5b106e31ca38",
        "colab": {
          "base_uri": "https://localhost:8080/",
          "height": 36
        }
      },
      "source": [
        "print(\"Welcome to\", end = ' ')\n",
        "print(\"Modeling of Estimation for weather change\", end = \"@\")"
      ],
      "execution_count": null,
      "outputs": [
        {
          "output_type": "stream",
          "text": [
            "Welcome to Modeling of Estimation for weather change@"
          ],
          "name": "stdout"
        }
      ]
    },
    {
      "cell_type": "code",
      "metadata": {
        "id": "eFzOSfgjwf5G",
        "outputId": "3b9267bb-7d5b-4864-a97c-3a7a46792ec3",
        "colab": {
          "base_uri": "https://localhost:8080/",
          "height": 223
        }
      },
      "source": [
        "#use print function and separate the following strings by 2 enters\n",
        "#'Modeling', 'of', 'Estimation', 'for', 'Weatrher', 'Change'\n",
        "#put a \"!\" at the end\n",
        "print('Modeling', 'of', 'Estimation', 'for', 'Weather', 'Change', sep=\"\\n\\n\", end=\"!\") "
      ],
      "execution_count": null,
      "outputs": [
        {
          "output_type": "stream",
          "text": [
            "Modeling\n",
            "\n",
            "of\n",
            "\n",
            "Estimation\n",
            "\n",
            "for\n",
            "\n",
            "Weather\n",
            "\n",
            "Change!"
          ],
          "name": "stdout"
        }
      ]
    },
    {
      "cell_type": "markdown",
      "metadata": {
        "id": "3gzThR51ym3p"
      },
      "source": [
        "### **List**"
      ]
    },
    {
      "cell_type": "code",
      "metadata": {
        "id": "ovCjhV2pytGi",
        "outputId": "e82dd441-b237-4619-b939-6ea2a192a304",
        "colab": {
          "base_uri": "https://localhost:8080/",
          "height": 36
        }
      },
      "source": [
        "[1,2,3]"
      ],
      "execution_count": null,
      "outputs": [
        {
          "output_type": "execute_result",
          "data": {
            "text/plain": [
              "[1, 2, 3]"
            ]
          },
          "metadata": {
            "tags": []
          },
          "execution_count": 57
        }
      ]
    },
    {
      "cell_type": "code",
      "metadata": {
        "id": "xB6g6grtzMsF",
        "outputId": "2317ee04-e975-4dc2-834f-164126badd7f",
        "colab": {
          "base_uri": "https://localhost:8080/",
          "height": 36
        }
      },
      "source": [
        "[\"hi\", 1,2,3]"
      ],
      "execution_count": null,
      "outputs": [
        {
          "output_type": "execute_result",
          "data": {
            "text/plain": [
              "['hi', 1, 2, 3]"
            ]
          },
          "metadata": {
            "tags": []
          },
          "execution_count": 58
        }
      ]
    },
    {
      "cell_type": "code",
      "metadata": {
        "id": "c9UWHCZozaCv",
        "outputId": "fb2e1c98-95f1-4454-d546-7319226ce815",
        "colab": {
          "base_uri": "https://localhost:8080/",
          "height": 36
        }
      },
      "source": [
        "[\"hi\", 1, [1 , 2]]"
      ],
      "execution_count": null,
      "outputs": [
        {
          "output_type": "execute_result",
          "data": {
            "text/plain": [
              "['hi', 1, [1, 2]]"
            ]
          },
          "metadata": {
            "tags": []
          },
          "execution_count": 59
        }
      ]
    },
    {
      "cell_type": "code",
      "metadata": {
        "id": "-o1GbP0eziyW"
      },
      "source": [
        "my_list = ['a', 'b', 'c']"
      ],
      "execution_count": null,
      "outputs": []
    },
    {
      "cell_type": "code",
      "metadata": {
        "id": "uu_AaU51ziWX"
      },
      "source": [
        "#add an element at the end of the list\n",
        "my_list.append('e')"
      ],
      "execution_count": null,
      "outputs": []
    },
    {
      "cell_type": "code",
      "metadata": {
        "id": "8oT9_d0j0GFV",
        "outputId": "b2864b30-3084-4586-f7a6-afbd0354264d",
        "colab": {
          "base_uri": "https://localhost:8080/",
          "height": 36
        }
      },
      "source": [
        "my_list"
      ],
      "execution_count": null,
      "outputs": [
        {
          "output_type": "execute_result",
          "data": {
            "text/plain": [
              "['a', 'b', 'c', 'e']"
            ]
          },
          "metadata": {
            "tags": []
          },
          "execution_count": 62
        }
      ]
    },
    {
      "cell_type": "code",
      "metadata": {
        "id": "zpDCwBzA0Gsn"
      },
      "source": [
        "#add element at the desired location\n",
        "# add element \"d\" st the 4th index\n",
        "my_list.insert(3,'d')"
      ],
      "execution_count": null,
      "outputs": []
    },
    {
      "cell_type": "code",
      "metadata": {
        "id": "GnAZj-Xa0g_7",
        "outputId": "699edf2e-feaa-4394-af83-f0f925509abb",
        "colab": {
          "base_uri": "https://localhost:8080/",
          "height": 36
        }
      },
      "source": [
        "my_list"
      ],
      "execution_count": null,
      "outputs": [
        {
          "output_type": "execute_result",
          "data": {
            "text/plain": [
              "['a', 'b', 'c', 'd', 'e']"
            ]
          },
          "metadata": {
            "tags": []
          },
          "execution_count": 64
        }
      ]
    },
    {
      "cell_type": "code",
      "metadata": {
        "id": "7dR9a1vi0r1u"
      },
      "source": [
        "# add several elements at the end of the list\n",
        "# my_list + ['f', 'g']\n",
        "my_list.extend(['f', 'g'])"
      ],
      "execution_count": null,
      "outputs": []
    },
    {
      "cell_type": "code",
      "metadata": {
        "id": "LbWMUTBT1A7U",
        "outputId": "cf397233-ee31-4e07-eb4a-125b54f2bf38",
        "colab": {
          "base_uri": "https://localhost:8080/",
          "height": 36
        }
      },
      "source": [
        "print(my_list)"
      ],
      "execution_count": null,
      "outputs": [
        {
          "output_type": "stream",
          "text": [
            "['a', 'b', 'c', 'd', 'e', 'f', 'g']\n"
          ],
          "name": "stdout"
        }
      ]
    },
    {
      "cell_type": "code",
      "metadata": {
        "id": "Gc_JnC3h1IaF",
        "outputId": "9c2e7128-6959-445c-b58f-60ba548073db",
        "colab": {
          "base_uri": "https://localhost:8080/",
          "height": 36
        }
      },
      "source": [
        "my_list[0]"
      ],
      "execution_count": null,
      "outputs": [
        {
          "output_type": "execute_result",
          "data": {
            "application/vnd.google.colaboratory.intrinsic+json": {
              "type": "string"
            },
            "text/plain": [
              "'a'"
            ]
          },
          "metadata": {
            "tags": []
          },
          "execution_count": 67
        }
      ]
    },
    {
      "cell_type": "code",
      "metadata": {
        "id": "XCtmYDDS1I6h",
        "outputId": "833b1803-650b-425b-c96f-6b68b99c52e6",
        "colab": {
          "base_uri": "https://localhost:8080/",
          "height": 36
        }
      },
      "source": [
        "my_list[2]"
      ],
      "execution_count": null,
      "outputs": [
        {
          "output_type": "execute_result",
          "data": {
            "application/vnd.google.colaboratory.intrinsic+json": {
              "type": "string"
            },
            "text/plain": [
              "'c'"
            ]
          },
          "metadata": {
            "tags": []
          },
          "execution_count": 68
        }
      ]
    },
    {
      "cell_type": "code",
      "metadata": {
        "id": "amELSv4V1Rum",
        "outputId": "3b296d5f-c2f5-449f-c03b-91a2aaee3248",
        "colab": {
          "base_uri": "https://localhost:8080/",
          "height": 36
        }
      },
      "source": [
        "my_list[1:]"
      ],
      "execution_count": null,
      "outputs": [
        {
          "output_type": "execute_result",
          "data": {
            "text/plain": [
              "['b', 'c', 'd', 'e', 'f', 'g']"
            ]
          },
          "metadata": {
            "tags": []
          },
          "execution_count": 69
        }
      ]
    },
    {
      "cell_type": "code",
      "metadata": {
        "id": "GQ-W8HsK1Sxb",
        "outputId": "1424cd78-95e7-4829-cdb4-972f1c0d0949",
        "colab": {
          "base_uri": "https://localhost:8080/",
          "height": 36
        }
      },
      "source": [
        "my_list[:2]"
      ],
      "execution_count": null,
      "outputs": [
        {
          "output_type": "execute_result",
          "data": {
            "text/plain": [
              "['a', 'b']"
            ]
          },
          "metadata": {
            "tags": []
          },
          "execution_count": 70
        }
      ]
    },
    {
      "cell_type": "code",
      "metadata": {
        "id": "5oKOzhxb4dXj",
        "outputId": "4b9e51db-933b-410c-eba6-7bca2590e132",
        "colab": {
          "base_uri": "https://localhost:8080/",
          "height": 36
        }
      },
      "source": [
        "my_list[-2:]"
      ],
      "execution_count": null,
      "outputs": [
        {
          "output_type": "execute_result",
          "data": {
            "text/plain": [
              "['f', 'g']"
            ]
          },
          "metadata": {
            "tags": []
          },
          "execution_count": 71
        }
      ]
    },
    {
      "cell_type": "code",
      "metadata": {
        "id": "3KgOdpuC4nOv"
      },
      "source": [
        "#update elements\n",
        "my_list[0] = 'NEW'"
      ],
      "execution_count": null,
      "outputs": []
    },
    {
      "cell_type": "code",
      "metadata": {
        "id": "Sake2gc24nzj",
        "outputId": "d0f683fd-2dd3-4e31-c34c-bffc9d0b77c4",
        "colab": {
          "base_uri": "https://localhost:8080/",
          "height": 36
        }
      },
      "source": [
        "print(my_list)"
      ],
      "execution_count": null,
      "outputs": [
        {
          "output_type": "stream",
          "text": [
            "['NEW', 'b', 'c', 'd', 'e', 'f', 'g']\n"
          ],
          "name": "stdout"
        }
      ]
    },
    {
      "cell_type": "code",
      "metadata": {
        "id": "qv8PMq3y5gZM"
      },
      "source": [
        "#change the 2nd to 4th values\n",
        "my_list[1:4] = [11, 22, 33]"
      ],
      "execution_count": null,
      "outputs": []
    },
    {
      "cell_type": "code",
      "metadata": {
        "id": "rV6qVhbL5hF2",
        "outputId": "b758754c-7e45-4614-fe6c-96dce8cecb87",
        "colab": {
          "base_uri": "https://localhost:8080/",
          "height": 36
        }
      },
      "source": [
        "print(my_list)"
      ],
      "execution_count": null,
      "outputs": [
        {
          "output_type": "stream",
          "text": [
            "['NEW', 11, 22, 33, 'e', 'f', 'g']\n"
          ],
          "name": "stdout"
        }
      ]
    },
    {
      "cell_type": "code",
      "metadata": {
        "id": "aVXvG4kW5hdY"
      },
      "source": [
        "# lsit of integer, float and string\n",
        "nest_list = [1,2,3,[4.2,5.5, ['target', 'second target']]]"
      ],
      "execution_count": null,
      "outputs": []
    },
    {
      "cell_type": "code",
      "metadata": {
        "id": "nZHULQxB5h6Z",
        "outputId": "85847674-f489-4661-cb5e-8bda5e28c13f",
        "colab": {
          "base_uri": "https://localhost:8080/",
          "height": 36
        }
      },
      "source": [
        "nest_list[3]"
      ],
      "execution_count": null,
      "outputs": [
        {
          "output_type": "execute_result",
          "data": {
            "text/plain": [
              "[4.2, 5.5, ['target', 'second target']]"
            ]
          },
          "metadata": {
            "tags": []
          },
          "execution_count": 82
        }
      ]
    },
    {
      "cell_type": "code",
      "metadata": {
        "id": "-Kzv-BLU6AVv",
        "outputId": "b50934d6-082c-44c9-9e1a-7b103ed8a820",
        "colab": {
          "base_uri": "https://localhost:8080/",
          "height": 36
        }
      },
      "source": [
        "nest_list[3][2]"
      ],
      "execution_count": null,
      "outputs": [
        {
          "output_type": "execute_result",
          "data": {
            "text/plain": [
              "['target', 'second target']"
            ]
          },
          "metadata": {
            "tags": []
          },
          "execution_count": 83
        }
      ]
    },
    {
      "cell_type": "code",
      "metadata": {
        "id": "kO8t_mf96A6u",
        "outputId": "86c691e1-542a-42f6-ae4d-9e9e24c61e05",
        "colab": {
          "base_uri": "https://localhost:8080/",
          "height": 36
        }
      },
      "source": [
        "nest_list[3][2][1]"
      ],
      "execution_count": null,
      "outputs": [
        {
          "output_type": "execute_result",
          "data": {
            "application/vnd.google.colaboratory.intrinsic+json": {
              "type": "string"
            },
            "text/plain": [
              "'second target'"
            ]
          },
          "metadata": {
            "tags": []
          },
          "execution_count": 84
        }
      ]
    },
    {
      "cell_type": "code",
      "metadata": {
        "id": "cF6LrXpP65kE"
      },
      "source": [
        "lst = my_list[:]"
      ],
      "execution_count": null,
      "outputs": []
    },
    {
      "cell_type": "code",
      "metadata": {
        "id": "zOrsz0wl7MfH",
        "outputId": "349f3b45-3c56-471f-86a6-10498a9b7bcc",
        "colab": {
          "base_uri": "https://localhost:8080/",
          "height": 36
        }
      },
      "source": [
        "print(lst)"
      ],
      "execution_count": null,
      "outputs": [
        {
          "output_type": "stream",
          "text": [
            "['NEW', 11, 22, 33, 'e', 'f', 'g']\n"
          ],
          "name": "stdout"
        }
      ]
    },
    {
      "cell_type": "code",
      "metadata": {
        "id": "6GidK94S7M00",
        "outputId": "286c4cc4-6ee7-48f9-c00b-ba75d52dfd3f",
        "colab": {
          "base_uri": "https://localhost:8080/",
          "height": 36
        }
      },
      "source": [
        "#delete last element // lst.pop(index); del lst[1]; del [2:4]; del lst\n",
        "lst.pop()"
      ],
      "execution_count": null,
      "outputs": [
        {
          "output_type": "execute_result",
          "data": {
            "text/plain": [
              "33"
            ]
          },
          "metadata": {
            "tags": []
          },
          "execution_count": 93
        }
      ]
    },
    {
      "cell_type": "code",
      "metadata": {
        "id": "V20-zwgs8GgM",
        "outputId": "5f89f081-f832-4eb1-f137-14d749428b3a",
        "colab": {
          "base_uri": "https://localhost:8080/",
          "height": 36
        }
      },
      "source": [
        "print(lst)"
      ],
      "execution_count": null,
      "outputs": [
        {
          "output_type": "stream",
          "text": [
            "['NEW', 11, 22]\n"
          ],
          "name": "stdout"
        }
      ]
    },
    {
      "cell_type": "code",
      "metadata": {
        "id": "XFyq3Sw-8G6U"
      },
      "source": [
        "\n",
        "# delete all elements\n",
        "lst.clear()"
      ],
      "execution_count": null,
      "outputs": []
    },
    {
      "cell_type": "code",
      "metadata": {
        "id": "YgJy9c7e8HVb",
        "outputId": "73e56828-bb1a-4e14-f5d4-c740faafa872",
        "colab": {
          "base_uri": "https://localhost:8080/",
          "height": 36
        }
      },
      "source": [
        "'x' in [1,2,3]"
      ],
      "execution_count": null,
      "outputs": [
        {
          "output_type": "execute_result",
          "data": {
            "text/plain": [
              "False"
            ]
          },
          "metadata": {
            "tags": []
          },
          "execution_count": 96
        }
      ]
    },
    {
      "cell_type": "code",
      "metadata": {
        "id": "gdb5Aj7H_eXN",
        "outputId": "ddd6fffa-3d8f-4bd2-c3d7-7f0b720abab4",
        "colab": {
          "base_uri": "https://localhost:8080/",
          "height": 36
        }
      },
      "source": [
        "'x' in ['x', 'y', 'z']"
      ],
      "execution_count": null,
      "outputs": [
        {
          "output_type": "execute_result",
          "data": {
            "text/plain": [
              "True"
            ]
          },
          "metadata": {
            "tags": []
          },
          "execution_count": 97
        }
      ]
    },
    {
      "cell_type": "markdown",
      "metadata": {
        "id": "viC9Wfnp_nBj"
      },
      "source": [
        "### Booleans"
      ]
    },
    {
      "cell_type": "code",
      "metadata": {
        "id": "KYrP7jVd_ewo",
        "outputId": "37299d13-1c1e-419f-b698-a62a64a769b3",
        "colab": {
          "base_uri": "https://localhost:8080/",
          "height": 36
        }
      },
      "source": [
        "True"
      ],
      "execution_count": null,
      "outputs": [
        {
          "output_type": "execute_result",
          "data": {
            "text/plain": [
              "True"
            ]
          },
          "metadata": {
            "tags": []
          },
          "execution_count": 98
        }
      ]
    },
    {
      "cell_type": "code",
      "metadata": {
        "id": "3rbQ9DcW_u4u",
        "outputId": "e22ca3ba-b7bc-4d69-a291-7b2652742c76",
        "colab": {
          "base_uri": "https://localhost:8080/",
          "height": 36
        }
      },
      "source": [
        "False"
      ],
      "execution_count": null,
      "outputs": [
        {
          "output_type": "execute_result",
          "data": {
            "text/plain": [
              "False"
            ]
          },
          "metadata": {
            "tags": []
          },
          "execution_count": 99
        }
      ]
    },
    {
      "cell_type": "markdown",
      "metadata": {
        "id": "TYldkTLD_2-2"
      },
      "source": [
        "### Tuples"
      ]
    },
    {
      "cell_type": "code",
      "metadata": {
        "id": "HYIP3cUd_w6w"
      },
      "source": [
        "t= (1,2,3,4)"
      ],
      "execution_count": null,
      "outputs": []
    },
    {
      "cell_type": "code",
      "metadata": {
        "id": "qVaiMgl9_xSo",
        "outputId": "94821f02-ef7b-4dd8-fbd0-7dbf3c5ebba0",
        "colab": {
          "base_uri": "https://localhost:8080/",
          "height": 36
        }
      },
      "source": [
        "t[2:]"
      ],
      "execution_count": null,
      "outputs": [
        {
          "output_type": "execute_result",
          "data": {
            "text/plain": [
              "(3, 4)"
            ]
          },
          "metadata": {
            "tags": []
          },
          "execution_count": 101
        }
      ]
    },
    {
      "cell_type": "code",
      "metadata": {
        "id": "TzzlhWjg_xxN",
        "outputId": "d2d53c3f-f088-4ebb-87ca-c88781681918",
        "colab": {
          "base_uri": "https://localhost:8080/",
          "height": 176
        }
      },
      "source": [
        "t[0] = 'New'"
      ],
      "execution_count": 2,
      "outputs": [
        {
          "output_type": "error",
          "ename": "NameError",
          "evalue": "ignored",
          "traceback": [
            "\u001b[0;31m---------------------------------------------------------------------------\u001b[0m",
            "\u001b[0;31mNameError\u001b[0m                                 Traceback (most recent call last)",
            "\u001b[0;32m<ipython-input-2-79c2310ee092>\u001b[0m in \u001b[0;36m<module>\u001b[0;34m()\u001b[0m\n\u001b[0;32m----> 1\u001b[0;31m \u001b[0mt\u001b[0m\u001b[0;34m[\u001b[0m\u001b[0;36m0\u001b[0m\u001b[0;34m]\u001b[0m \u001b[0;34m=\u001b[0m \u001b[0;34m'New'\u001b[0m\u001b[0;34m\u001b[0m\u001b[0;34m\u001b[0m\u001b[0m\n\u001b[0m",
            "\u001b[0;31mNameError\u001b[0m: name 't' is not defined"
          ]
        }
      ]
    },
    {
      "cell_type": "code",
      "metadata": {
        "id": "w9cKClsfAVtu",
        "outputId": "8d50bc15-488a-41f6-fa80-29c7155700e6",
        "colab": {
          "base_uri": "https://localhost:8080/",
          "height": 92
        }
      },
      "source": [
        "for number in t: #Iterate over a tuple\n",
        "   print(number)"
      ],
      "execution_count": null,
      "outputs": [
        {
          "output_type": "stream",
          "text": [
            "1\n",
            "2\n",
            "3\n",
            "4\n"
          ],
          "name": "stdout"
        }
      ]
    },
    {
      "cell_type": "code",
      "metadata": {
        "id": "Fek0mgyCAjLv"
      },
      "source": [
        "del t"
      ],
      "execution_count": null,
      "outputs": []
    },
    {
      "cell_type": "markdown",
      "metadata": {
        "id": "h1ZJfn5-Api2"
      },
      "source": [
        "### Sets"
      ]
    },
    {
      "cell_type": "code",
      "metadata": {
        "id": "xC1NiB-8Ajxi"
      },
      "source": [
        "s = {1,2,3} # we cannot access the indices"
      ],
      "execution_count": null,
      "outputs": []
    },
    {
      "cell_type": "code",
      "metadata": {
        "id": "ETrYSuLOAkYP"
      },
      "source": [
        "s2 = {1,1,1,1,1,1,1,1,1,1,2,2,2,2,2,2,2,2,2,3,3,3,3,3,3,3}"
      ],
      "execution_count": null,
      "outputs": []
    },
    {
      "cell_type": "code",
      "metadata": {
        "id": "niFCxVlnAlqq",
        "outputId": "901576d5-109e-4324-e153-2ccbbecb62fe",
        "colab": {
          "base_uri": "https://localhost:8080/",
          "height": 36
        }
      },
      "source": [
        "print(s2)"
      ],
      "execution_count": null,
      "outputs": [
        {
          "output_type": "stream",
          "text": [
            "{1, 2, 3}\n"
          ],
          "name": "stdout"
        }
      ]
    },
    {
      "cell_type": "code",
      "metadata": {
        "id": "LYckRR4uBYXw"
      },
      "source": [
        "s2.add(99)"
      ],
      "execution_count": null,
      "outputs": []
    },
    {
      "cell_type": "code",
      "metadata": {
        "id": "KQlXIZLIBbzz",
        "outputId": "5469ca8b-41b1-4178-f761-45a9fdb7d17c",
        "colab": {
          "base_uri": "https://localhost:8080/",
          "height": 36
        }
      },
      "source": [
        "print(s2)"
      ],
      "execution_count": null,
      "outputs": [
        {
          "output_type": "stream",
          "text": [
            "{99, 1, 2, 3}\n"
          ],
          "name": "stdout"
        }
      ]
    },
    {
      "cell_type": "code",
      "metadata": {
        "id": "R2rufum1Beb-"
      },
      "source": [
        "s2.remove(3)"
      ],
      "execution_count": null,
      "outputs": []
    },
    {
      "cell_type": "code",
      "metadata": {
        "id": "FjTk9QaWBinp",
        "outputId": "a89d187b-5c21-4dbe-c557-c057f810ab9c",
        "colab": {
          "base_uri": "https://localhost:8080/",
          "height": 36
        }
      },
      "source": [
        "print(s2)"
      ],
      "execution_count": null,
      "outputs": [
        {
          "output_type": "stream",
          "text": [
            "{99, 1, 2}\n"
          ],
          "name": "stdout"
        }
      ]
    },
    {
      "cell_type": "markdown",
      "metadata": {
        "id": "qARZgR65BxM3"
      },
      "source": [
        "### Dictionaries"
      ]
    },
    {
      "cell_type": "code",
      "metadata": {
        "id": "ueW25kKvBwLD"
      },
      "source": [
        "d = {'key1':'item1', 'key2':'item2'}"
      ],
      "execution_count": null,
      "outputs": []
    },
    {
      "cell_type": "code",
      "metadata": {
        "id": "9EsZS6fnCUZU",
        "outputId": "d16a2938-3049-4e7a-dbd9-91510d46c551",
        "colab": {
          "base_uri": "https://localhost:8080/",
          "height": 36
        }
      },
      "source": [
        "print(d)"
      ],
      "execution_count": null,
      "outputs": [
        {
          "output_type": "stream",
          "text": [
            "{'key1': 'item1', 'key2': 'item2'}\n"
          ],
          "name": "stdout"
        }
      ]
    },
    {
      "cell_type": "code",
      "metadata": {
        "id": "qrwnq5NJCXns",
        "outputId": "a41361a1-1f8a-463c-a19f-1df14b58633b",
        "colab": {
          "base_uri": "https://localhost:8080/",
          "height": 36
        }
      },
      "source": [
        "d['key1']"
      ],
      "execution_count": null,
      "outputs": [
        {
          "output_type": "execute_result",
          "data": {
            "application/vnd.google.colaboratory.intrinsic+json": {
              "type": "string"
            },
            "text/plain": [
              "'item1'"
            ]
          },
          "metadata": {
            "tags": []
          },
          "execution_count": 118
        }
      ]
    },
    {
      "cell_type": "code",
      "metadata": {
        "id": "wrstEFsPCYAT",
        "outputId": "aa785c1b-66f3-4c3a-ff11-c93df1fed560",
        "colab": {
          "base_uri": "https://localhost:8080/",
          "height": 36
        }
      },
      "source": [
        "d.items()"
      ],
      "execution_count": null,
      "outputs": [
        {
          "output_type": "execute_result",
          "data": {
            "text/plain": [
              "dict_items([('key1', 'item1'), ('key2', 'item2')])"
            ]
          },
          "metadata": {
            "tags": []
          },
          "execution_count": 119
        }
      ]
    },
    {
      "cell_type": "code",
      "metadata": {
        "id": "VmoaN0OOCd6H"
      },
      "source": [
        "temp_dict = {'Suwon':26, 'Incheon':24, 'Seoul':25}"
      ],
      "execution_count": null,
      "outputs": []
    },
    {
      "cell_type": "code",
      "metadata": {
        "id": "SDf5QqaeCeeh",
        "outputId": "d6f62b43-83d6-45cb-a04d-518866bf20ca",
        "colab": {
          "base_uri": "https://localhost:8080/",
          "height": 36
        }
      },
      "source": [
        "print(\"Temperature for Incheon: \", temp_dict['Incheon'])"
      ],
      "execution_count": null,
      "outputs": [
        {
          "output_type": "stream",
          "text": [
            "Temperature for Incheon:  24\n"
          ],
          "name": "stdout"
        }
      ]
    },
    {
      "cell_type": "code",
      "metadata": {
        "id": "18QwHwgCCe6I",
        "outputId": "40858c91-d947-47d1-d686-713e0c723dfe",
        "colab": {
          "base_uri": "https://localhost:8080/",
          "height": 36
        }
      },
      "source": [
        "temp_dict['Suwon'] = 25 #update values\n",
        "print(temp_dict)"
      ],
      "execution_count": null,
      "outputs": [
        {
          "output_type": "stream",
          "text": [
            "{'Suwon': 25, 'Incheon': 24, 'Seoul': 25}\n"
          ],
          "name": "stdout"
        }
      ]
    },
    {
      "cell_type": "code",
      "metadata": {
        "id": "aEsbA1kgCfaQ",
        "outputId": "c6e2e073-b928-4a05-bf57-77cb1e000ede",
        "colab": {
          "base_uri": "https://localhost:8080/",
          "height": 213
        }
      },
      "source": [
        "#Loop through a dictionary\n",
        "for i in temp_dict:\n",
        "   print(\"Key: \",i,\" Value: \",temp_dict[i])"
      ],
      "execution_count": 14,
      "outputs": [
        {
          "output_type": "error",
          "ename": "NameError",
          "evalue": "ignored",
          "traceback": [
            "\u001b[0;31m---------------------------------------------------------------------------\u001b[0m",
            "\u001b[0;31mNameError\u001b[0m                                 Traceback (most recent call last)",
            "\u001b[0;32m<ipython-input-14-ae20bc0631ea>\u001b[0m in \u001b[0;36m<module>\u001b[0;34m()\u001b[0m\n\u001b[1;32m      1\u001b[0m \u001b[0;31m#Loop through a dictionary\u001b[0m\u001b[0;34m\u001b[0m\u001b[0;34m\u001b[0m\u001b[0;34m\u001b[0m\u001b[0m\n\u001b[0;32m----> 2\u001b[0;31m \u001b[0;32mfor\u001b[0m \u001b[0mi\u001b[0m \u001b[0;32min\u001b[0m \u001b[0mtemp_dict\u001b[0m\u001b[0;34m:\u001b[0m\u001b[0;34m\u001b[0m\u001b[0;34m\u001b[0m\u001b[0m\n\u001b[0m\u001b[1;32m      3\u001b[0m    \u001b[0mprint\u001b[0m\u001b[0;34m(\u001b[0m\u001b[0;34m\"Key: \"\u001b[0m\u001b[0;34m,\u001b[0m\u001b[0mi\u001b[0m\u001b[0;34m,\u001b[0m\u001b[0;34m\" Value: \"\u001b[0m\u001b[0;34m,\u001b[0m\u001b[0mtemp_dict\u001b[0m\u001b[0;34m[\u001b[0m\u001b[0mi\u001b[0m\u001b[0;34m]\u001b[0m\u001b[0;34m)\u001b[0m\u001b[0;34m\u001b[0m\u001b[0;34m\u001b[0m\u001b[0m\n",
            "\u001b[0;31mNameError\u001b[0m: name 'temp_dict' is not defined"
          ]
        }
      ]
    },
    {
      "cell_type": "markdown",
      "metadata": {
        "id": "IgiYX8yMpeJ_"
      },
      "source": [
        "### Comparison Operators"
      ]
    },
    {
      "cell_type": "code",
      "metadata": {
        "id": "qEkFvLimotBh",
        "outputId": "b451b346-c41e-4bc6-eb6d-cb75a0671a8f",
        "colab": {
          "base_uri": "https://localhost:8080/",
          "height": 36
        }
      },
      "source": [
        "1 > 2"
      ],
      "execution_count": 4,
      "outputs": [
        {
          "output_type": "execute_result",
          "data": {
            "text/plain": [
              "False"
            ]
          },
          "metadata": {
            "tags": []
          },
          "execution_count": 4
        }
      ]
    },
    {
      "cell_type": "code",
      "metadata": {
        "id": "hPEjzdqCosqD",
        "outputId": "c9101df8-cb31-486a-d082-30c7a98873bb",
        "colab": {
          "base_uri": "https://localhost:8080/",
          "height": 36
        }
      },
      "source": [
        "1 < 2"
      ],
      "execution_count": 5,
      "outputs": [
        {
          "output_type": "execute_result",
          "data": {
            "text/plain": [
              "True"
            ]
          },
          "metadata": {
            "tags": []
          },
          "execution_count": 5
        }
      ]
    },
    {
      "cell_type": "code",
      "metadata": {
        "id": "Myh_Y7UJotju",
        "outputId": "b83fd947-04aa-45a3-9590-2e27f1e6e976",
        "colab": {
          "base_uri": "https://localhost:8080/",
          "height": 36
        }
      },
      "source": [
        "1 >= 1"
      ],
      "execution_count": 6,
      "outputs": [
        {
          "output_type": "execute_result",
          "data": {
            "text/plain": [
              "True"
            ]
          },
          "metadata": {
            "tags": []
          },
          "execution_count": 6
        }
      ]
    },
    {
      "cell_type": "code",
      "metadata": {
        "id": "vUUMlVxuouhK",
        "outputId": "f13e0dfc-95c9-4cf7-ff33-36a6ea9b1450",
        "colab": {
          "base_uri": "https://localhost:8080/",
          "height": 36
        }
      },
      "source": [
        "1 <= 4"
      ],
      "execution_count": 7,
      "outputs": [
        {
          "output_type": "execute_result",
          "data": {
            "text/plain": [
              "True"
            ]
          },
          "metadata": {
            "tags": []
          },
          "execution_count": 7
        }
      ]
    },
    {
      "cell_type": "code",
      "metadata": {
        "id": "knDhRs3LovNQ",
        "outputId": "69406706-7c0a-4eac-a67a-3ede2639b475",
        "colab": {
          "base_uri": "https://localhost:8080/",
          "height": 36
        }
      },
      "source": [
        "1 == 1"
      ],
      "execution_count": 8,
      "outputs": [
        {
          "output_type": "execute_result",
          "data": {
            "text/plain": [
              "True"
            ]
          },
          "metadata": {
            "tags": []
          },
          "execution_count": 8
        }
      ]
    },
    {
      "cell_type": "code",
      "metadata": {
        "id": "qHhIsRjpou02",
        "outputId": "238e72a1-9011-4ca0-fa2c-5db3755a2d9c",
        "colab": {
          "base_uri": "https://localhost:8080/",
          "height": 36
        }
      },
      "source": [
        "'hi' == 'bye'"
      ],
      "execution_count": 9,
      "outputs": [
        {
          "output_type": "execute_result",
          "data": {
            "text/plain": [
              "False"
            ]
          },
          "metadata": {
            "tags": []
          },
          "execution_count": 9
        }
      ]
    },
    {
      "cell_type": "code",
      "metadata": {
        "id": "K71e2iNqouGw",
        "outputId": "75e95730-7147-4c89-fe35-1d0a4d87c4c5",
        "colab": {
          "base_uri": "https://localhost:8080/",
          "height": 36
        }
      },
      "source": [
        "#print code that returns True if 10 and 10 are equal\n",
        "10 == 10"
      ],
      "execution_count": 10,
      "outputs": [
        {
          "output_type": "execute_result",
          "data": {
            "text/plain": [
              "True"
            ]
          },
          "metadata": {
            "tags": []
          },
          "execution_count": 10
        }
      ]
    },
    {
      "cell_type": "markdown",
      "metadata": {
        "id": "pQtHzrdLtmZq"
      },
      "source": [
        "### Logic Operators"
      ]
    },
    {
      "cell_type": "code",
      "metadata": {
        "id": "_3uzrXxZqBYo",
        "outputId": "0bab600b-eeb4-4893-ec2b-a8371be383ef",
        "colab": {
          "base_uri": "https://localhost:8080/",
          "height": 36
        }
      },
      "source": [
        "(1 > 2) and (2 < 3)"
      ],
      "execution_count": 15,
      "outputs": [
        {
          "output_type": "execute_result",
          "data": {
            "text/plain": [
              "False"
            ]
          },
          "metadata": {
            "tags": []
          },
          "execution_count": 15
        }
      ]
    },
    {
      "cell_type": "code",
      "metadata": {
        "id": "Bn8QOGXdqBhY",
        "outputId": "e53c02e1-fdc8-4ac8-ff00-da1fad9f7aa5",
        "colab": {
          "base_uri": "https://localhost:8080/",
          "height": 36
        }
      },
      "source": [
        "(1 > 2) or (2 < 3)"
      ],
      "execution_count": 16,
      "outputs": [
        {
          "output_type": "execute_result",
          "data": {
            "text/plain": [
              "True"
            ]
          },
          "metadata": {
            "tags": []
          },
          "execution_count": 16
        }
      ]
    },
    {
      "cell_type": "code",
      "metadata": {
        "id": "TBPTrNmqqBeF",
        "outputId": "09d21c29-ab24-48e9-c64f-21139f9f470e",
        "colab": {
          "base_uri": "https://localhost:8080/",
          "height": 36
        }
      },
      "source": [
        "(1 == 2) or (2 == 3) or (4 == 4)"
      ],
      "execution_count": 17,
      "outputs": [
        {
          "output_type": "execute_result",
          "data": {
            "text/plain": [
              "True"
            ]
          },
          "metadata": {
            "tags": []
          },
          "execution_count": 17
        }
      ]
    },
    {
      "cell_type": "code",
      "metadata": {
        "id": "GwjgdIBDqBFw",
        "outputId": "9badbe39-f36d-4445-e1a7-1f0df3b02973",
        "colab": {
          "base_uri": "https://localhost:8080/",
          "height": 36
        }
      },
      "source": [
        "#Change the following code so it evaluates to False: 1 == 1 and 3 == 3, print it\n",
        "(not 1 == 1) and 3 == 3"
      ],
      "execution_count": 20,
      "outputs": [
        {
          "output_type": "execute_result",
          "data": {
            "text/plain": [
              "False"
            ]
          },
          "metadata": {
            "tags": []
          },
          "execution_count": 20
        }
      ]
    },
    {
      "cell_type": "code",
      "metadata": {
        "id": "97sSOTBQqBC7",
        "outputId": "e2cf0d88-9e04-4283-af51-31d0ebb5bbc5",
        "colab": {
          "base_uri": "https://localhost:8080/",
          "height": 36
        }
      },
      "source": [
        "(1 != 1) and 3 == 3"
      ],
      "execution_count": 21,
      "outputs": [
        {
          "output_type": "execute_result",
          "data": {
            "text/plain": [
              "False"
            ]
          },
          "metadata": {
            "tags": []
          },
          "execution_count": 21
        }
      ]
    },
    {
      "cell_type": "markdown",
      "metadata": {
        "id": "ZcEIgVQkvbnY"
      },
      "source": [
        "### if,elif,else statements"
      ]
    },
    {
      "cell_type": "code",
      "metadata": {
        "id": "LG437EfXqA_y",
        "outputId": "69b1117b-99c8-417f-8973-accbcbb88073",
        "colab": {
          "base_uri": "https://localhost:8080/",
          "height": 36
        }
      },
      "source": [
        "if (1 < 2):\n",
        "   print(\"Yep!\")"
      ],
      "execution_count": 24,
      "outputs": [
        {
          "output_type": "stream",
          "text": [
            "Yep!\n"
          ],
          "name": "stdout"
        }
      ]
    },
    {
      "cell_type": "code",
      "metadata": {
        "id": "EmJFhoNSqA7p"
      },
      "source": [
        "if(1 > 2):\n",
        "   print(\"oh no~!\")"
      ],
      "execution_count": 23,
      "outputs": []
    },
    {
      "cell_type": "code",
      "metadata": {
        "id": "3hVPen2ZqA3w",
        "outputId": "c4325b5b-c409-4b24-9b0c-d7603e4bd8ed",
        "colab": {
          "base_uri": "https://localhost:8080/",
          "height": 36
        }
      },
      "source": [
        "if(1 < 2):\n",
        "   print(\"first\")\n",
        "else:\n",
        "   print(\"last\")"
      ],
      "execution_count": 26,
      "outputs": [
        {
          "output_type": "stream",
          "text": [
            "first\n"
          ],
          "name": "stdout"
        }
      ]
    },
    {
      "cell_type": "code",
      "metadata": {
        "id": "eHNKZaiOuBrN",
        "outputId": "0ea768f4-e576-4c8f-e844-a2e07fd1967b",
        "colab": {
          "base_uri": "https://localhost:8080/",
          "height": 36
        }
      },
      "source": [
        "if(1 > 2):\n",
        "  print(\"frst\")\n",
        "else:\n",
        "  print(\"last\")"
      ],
      "execution_count": 27,
      "outputs": [
        {
          "output_type": "stream",
          "text": [
            "last\n"
          ],
          "name": "stdout"
        }
      ]
    },
    {
      "cell_type": "code",
      "metadata": {
        "id": "1XFaQFj5uBoP",
        "outputId": "323e0b67-58c0-4532-d224-ff2d7f3ad3af",
        "colab": {
          "base_uri": "https://localhost:8080/",
          "height": 36
        }
      },
      "source": [
        "if(1 == 2):\n",
        "  print('first')\n",
        "elif 3 == 3:\n",
        "  print('middle')\n",
        "else:\n",
        "  print('last')"
      ],
      "execution_count": 28,
      "outputs": [
        {
          "output_type": "stream",
          "text": [
            "middle\n"
          ],
          "name": "stdout"
        }
      ]
    },
    {
      "cell_type": "code",
      "metadata": {
        "id": "WIXsWgiGuBll",
        "outputId": "81e162a7-3cab-462a-9217-01922a14cf80",
        "colab": {
          "base_uri": "https://localhost:8080/",
          "height": 36
        }
      },
      "source": [
        "#write a program that has a variable called temperature and print \"It is Hot!\" if the temperature is over 17\n",
        "#and \"It is cold!\" if is less than 17, Then assign the variable temperature to 21.\n",
        "temperature = 21\n",
        "if(temperature > 17):\n",
        "  print(\"It is Hot!\")\n",
        "elif (temperature < 17):\n",
        "  print(\"It is Cold!\")"
      ],
      "execution_count": 30,
      "outputs": [
        {
          "output_type": "stream",
          "text": [
            "It is Hot!\n"
          ],
          "name": "stdout"
        }
      ]
    },
    {
      "cell_type": "markdown",
      "metadata": {
        "id": "bZ-oe27tyrFt"
      },
      "source": [
        "### For loops"
      ]
    },
    {
      "cell_type": "code",
      "metadata": {
        "id": "TUojFrGwxZiA"
      },
      "source": [
        "seq = [1,2,3,4,5]"
      ],
      "execution_count": 31,
      "outputs": []
    },
    {
      "cell_type": "code",
      "metadata": {
        "id": "Wg_1nZA7uBgK",
        "outputId": "426a4102-0af9-4205-baae-25941f8c19d8",
        "colab": {
          "base_uri": "https://localhost:8080/",
          "height": 111
        }
      },
      "source": [
        "for item in seq:\n",
        "  print(item)"
      ],
      "execution_count": 33,
      "outputs": [
        {
          "output_type": "stream",
          "text": [
            "1\n",
            "2\n",
            "3\n",
            "4\n",
            "5\n"
          ],
          "name": "stdout"
        }
      ]
    },
    {
      "cell_type": "code",
      "metadata": {
        "id": "aL_BoYLxuBcx",
        "outputId": "43e5982c-69e6-49b8-d601-3e4622a94a27",
        "colab": {
          "base_uri": "https://localhost:8080/",
          "height": 111
        }
      },
      "source": [
        "for i in seq:\n",
        "  print(\"Yep\")"
      ],
      "execution_count": 35,
      "outputs": [
        {
          "output_type": "stream",
          "text": [
            "Yep\n",
            "Yep\n",
            "Yep\n",
            "Yep\n",
            "Yep\n"
          ],
          "name": "stdout"
        }
      ]
    },
    {
      "cell_type": "code",
      "metadata": {
        "id": "kTQzZjwzuBZd",
        "outputId": "fe0c7739-e000-417f-f5bb-8aa5a619f288",
        "colab": {
          "base_uri": "https://localhost:8080/",
          "height": 111
        }
      },
      "source": [
        "for j in seq:\n",
        "  print(j+j)"
      ],
      "execution_count": 36,
      "outputs": [
        {
          "output_type": "stream",
          "text": [
            "2\n",
            "4\n",
            "6\n",
            "8\n",
            "10\n"
          ],
          "name": "stdout"
        }
      ]
    },
    {
      "cell_type": "code",
      "metadata": {
        "id": "xY0DmICqw35m",
        "outputId": "cecf57b9-ddd3-443c-d6c4-1edd5f63c11f",
        "colab": {
          "base_uri": "https://localhost:8080/",
          "height": 484
        }
      },
      "source": [
        "for i in seq: #seq index are from 0..4\n",
        "  for j in seq:  #seq index are from 0..4\n",
        "    print(\"i = {}, i_seq_index = {}  ---  j = {}, j_seq_index = {}\".format(i, seq.index(i), j, seq.index(j)))"
      ],
      "execution_count": 40,
      "outputs": [
        {
          "output_type": "stream",
          "text": [
            "i = 1, i_seq_index = 0  ---  j = 1, j_seq_index = 0\n",
            "i = 1, i_seq_index = 0  ---  j = 2, j_seq_index = 1\n",
            "i = 1, i_seq_index = 0  ---  j = 3, j_seq_index = 2\n",
            "i = 1, i_seq_index = 0  ---  j = 4, j_seq_index = 3\n",
            "i = 1, i_seq_index = 0  ---  j = 5, j_seq_index = 4\n",
            "i = 2, i_seq_index = 1  ---  j = 1, j_seq_index = 0\n",
            "i = 2, i_seq_index = 1  ---  j = 2, j_seq_index = 1\n",
            "i = 2, i_seq_index = 1  ---  j = 3, j_seq_index = 2\n",
            "i = 2, i_seq_index = 1  ---  j = 4, j_seq_index = 3\n",
            "i = 2, i_seq_index = 1  ---  j = 5, j_seq_index = 4\n",
            "i = 3, i_seq_index = 2  ---  j = 1, j_seq_index = 0\n",
            "i = 3, i_seq_index = 2  ---  j = 2, j_seq_index = 1\n",
            "i = 3, i_seq_index = 2  ---  j = 3, j_seq_index = 2\n",
            "i = 3, i_seq_index = 2  ---  j = 4, j_seq_index = 3\n",
            "i = 3, i_seq_index = 2  ---  j = 5, j_seq_index = 4\n",
            "i = 4, i_seq_index = 3  ---  j = 1, j_seq_index = 0\n",
            "i = 4, i_seq_index = 3  ---  j = 2, j_seq_index = 1\n",
            "i = 4, i_seq_index = 3  ---  j = 3, j_seq_index = 2\n",
            "i = 4, i_seq_index = 3  ---  j = 4, j_seq_index = 3\n",
            "i = 4, i_seq_index = 3  ---  j = 5, j_seq_index = 4\n",
            "i = 5, i_seq_index = 4  ---  j = 1, j_seq_index = 0\n",
            "i = 5, i_seq_index = 4  ---  j = 2, j_seq_index = 1\n",
            "i = 5, i_seq_index = 4  ---  j = 3, j_seq_index = 2\n",
            "i = 5, i_seq_index = 4  ---  j = 4, j_seq_index = 3\n",
            "i = 5, i_seq_index = 4  ---  j = 5, j_seq_index = 4\n"
          ],
          "name": "stdout"
        }
      ]
    },
    {
      "cell_type": "code",
      "metadata": {
        "id": "esMrxbGOw32d",
        "outputId": "55e96d24-23d1-4cca-87d5-23253bb7d594",
        "colab": {
          "base_uri": "https://localhost:8080/",
          "height": 92
        }
      },
      "source": [
        "#print each item of the following list: ['Temperature','Wind_speed','Solar_evalution', 'is_Cloudy']\n",
        "for i in ['Temperature','Wind_speed','Solar_evalution', 'is_Cloudy']:\n",
        " print(i)"
      ],
      "execution_count": 42,
      "outputs": [
        {
          "output_type": "stream",
          "text": [
            "Temperature\n",
            "Wind_speed\n",
            "Solar_evalution\n",
            "is_Cloudy\n"
          ],
          "name": "stdout"
        }
      ]
    },
    {
      "cell_type": "markdown",
      "metadata": {
        "id": "xzXdSYK-2y1G"
      },
      "source": [
        "###While loops"
      ]
    },
    {
      "cell_type": "code",
      "metadata": {
        "id": "44onPCI3w3zV",
        "outputId": "d209e255-6c23-4d09-d5bd-af730ecedb05",
        "colab": {
          "base_uri": "https://localhost:8080/",
          "height": 92
        }
      },
      "source": [
        "i = 1\n",
        "while (i<5):\n",
        "  print('i is :{}'.format(i))\n",
        "  i = i+1"
      ],
      "execution_count": 46,
      "outputs": [
        {
          "output_type": "stream",
          "text": [
            "i is :1\n",
            "i is :2\n",
            "i is :3\n",
            "i is :4\n"
          ],
          "name": "stdout"
        }
      ]
    },
    {
      "cell_type": "markdown",
      "metadata": {
        "id": "zsBfakyI3ap4"
      },
      "source": [
        "###range()"
      ]
    },
    {
      "cell_type": "code",
      "metadata": {
        "id": "b5hWUJirw3vM",
        "outputId": "39c1f271-d181-4d23-d838-481c09209b21",
        "colab": {
          "base_uri": "https://localhost:8080/",
          "height": 36
        }
      },
      "source": [
        "range(5)"
      ],
      "execution_count": 47,
      "outputs": [
        {
          "output_type": "execute_result",
          "data": {
            "text/plain": [
              "range(0, 5)"
            ]
          },
          "metadata": {
            "tags": []
          },
          "execution_count": 47
        }
      ]
    },
    {
      "cell_type": "code",
      "metadata": {
        "id": "_iYJJ3iww3sQ",
        "outputId": "782cb53b-8f31-491c-c78e-3d0ed0cdc86f",
        "colab": {
          "base_uri": "https://localhost:8080/",
          "height": 111
        }
      },
      "source": [
        "for i in range(5):\n",
        "  print(i)"
      ],
      "execution_count": 50,
      "outputs": [
        {
          "output_type": "stream",
          "text": [
            "0\n",
            "1\n",
            "2\n",
            "3\n",
            "4\n"
          ],
          "name": "stdout"
        }
      ]
    },
    {
      "cell_type": "code",
      "metadata": {
        "id": "FS6_1LyWw3n5",
        "outputId": "33caf61a-6328-42e4-dbe1-5b9084aa8fef",
        "colab": {
          "base_uri": "https://localhost:8080/",
          "height": 36
        }
      },
      "source": [
        "list(range(5))"
      ],
      "execution_count": 51,
      "outputs": [
        {
          "output_type": "execute_result",
          "data": {
            "text/plain": [
              "[0, 1, 2, 3, 4]"
            ]
          },
          "metadata": {
            "tags": []
          },
          "execution_count": 51
        }
      ]
    },
    {
      "cell_type": "markdown",
      "metadata": {
        "id": "XKK_J_Ex35f-"
      },
      "source": [
        "### list comprehension"
      ]
    },
    {
      "cell_type": "code",
      "metadata": {
        "id": "r14cKwhEw3k0"
      },
      "source": [
        "x= [1,2,3,4] #list"
      ],
      "execution_count": 52,
      "outputs": []
    },
    {
      "cell_type": "code",
      "metadata": {
        "id": "skHTCsPU31az",
        "outputId": "bff76a6d-09be-465f-c8d5-3639904688f3",
        "colab": {
          "base_uri": "https://localhost:8080/",
          "height": 36
        }
      },
      "source": [
        "out = []\n",
        "for item in x:\n",
        "  out.append(item**2)\n",
        "print(out)"
      ],
      "execution_count": 53,
      "outputs": [
        {
          "output_type": "stream",
          "text": [
            "[1, 4, 9, 16]\n"
          ],
          "name": "stdout"
        }
      ]
    },
    {
      "cell_type": "code",
      "metadata": {
        "id": "xetiVQI631hU",
        "outputId": "23be82ef-bbd5-4c4b-db25-5c2f9fcde174",
        "colab": {
          "base_uri": "https://localhost:8080/",
          "height": 36
        }
      },
      "source": [
        "#sintax [expression for item in list]\n",
        "[item**2 for item in x]"
      ],
      "execution_count": 54,
      "outputs": [
        {
          "output_type": "execute_result",
          "data": {
            "text/plain": [
              "[1, 4, 9, 16]"
            ]
          },
          "metadata": {
            "tags": []
          },
          "execution_count": 54
        }
      ]
    },
    {
      "cell_type": "code",
      "metadata": {
        "id": "6lGHYiKp31Lb"
      },
      "source": [
        "#if... else with list comprehension\n",
        "obj = [\"Even\" if i%2 == 0 else \"Odd\" for i in x]"
      ],
      "execution_count": 56,
      "outputs": []
    },
    {
      "cell_type": "code",
      "metadata": {
        "id": "NaeYNeDT31Iv",
        "outputId": "040164f6-a3af-447c-d7c0-cb1688f78dcc",
        "colab": {
          "base_uri": "https://localhost:8080/",
          "height": 36
        }
      },
      "source": [
        "print(obj)"
      ],
      "execution_count": 57,
      "outputs": [
        {
          "output_type": "stream",
          "text": [
            "['Odd', 'Even', 'Odd', 'Even']\n"
          ],
          "name": "stdout"
        }
      ]
    },
    {
      "cell_type": "code",
      "metadata": {
        "id": "LJy4dwWm31Fv",
        "outputId": "281756c0-484e-4b35-f23e-64027d852bc7",
        "colab": {
          "base_uri": "https://localhost:8080/",
          "height": 36
        }
      },
      "source": [
        "#Iterating though a string using a for loop transform a string to list.\n",
        "h_letters = []\n",
        "for letter in 'weather change':\n",
        "  h_letters.append(letter)\n",
        "print(h_letters)"
      ],
      "execution_count": 60,
      "outputs": [
        {
          "output_type": "stream",
          "text": [
            "['w', 'e', 'a', 't', 'h', 'e', 'r', ' ', 'c', 'h', 'a', 'n', 'g', 'e']\n"
          ],
          "name": "stdout"
        }
      ]
    },
    {
      "cell_type": "code",
      "metadata": {
        "id": "HDS7Ujpf31Bb"
      },
      "source": [
        "#homework use list comprehension in the upper code\n",
        "#Submit to your github before Oct 21"
      ],
      "execution_count": null,
      "outputs": []
    },
    {
      "cell_type": "markdown",
      "metadata": {
        "id": "EJPFI3k69s4H"
      },
      "source": [
        "### Functions"
      ]
    },
    {
      "cell_type": "code",
      "metadata": {
        "id": "e1gG81E765Yu"
      },
      "source": [
        "def my_func(param1='default'):\n",
        "  \"\"\"\n",
        "  Docstring\n",
        "  \"\"\"\n",
        "  print(param1)"
      ],
      "execution_count": 61,
      "outputs": []
    },
    {
      "cell_type": "code",
      "metadata": {
        "id": "gXi4ONcE65Jt",
        "outputId": "c8f1cb96-9588-4de8-e148-6df0844f3416",
        "colab": {
          "base_uri": "https://localhost:8080/",
          "height": 36
        }
      },
      "source": [
        "my_func"
      ],
      "execution_count": 62,
      "outputs": [
        {
          "output_type": "execute_result",
          "data": {
            "text/plain": [
              "<function __main__.my_func>"
            ]
          },
          "metadata": {
            "tags": []
          },
          "execution_count": 62
        }
      ]
    },
    {
      "cell_type": "code",
      "metadata": {
        "id": "CESU0V1M66Ty",
        "outputId": "b427b28a-cf29-4441-e74e-32553fff429b",
        "colab": {
          "base_uri": "https://localhost:8080/",
          "height": 36
        }
      },
      "source": [
        "my_func()"
      ],
      "execution_count": 63,
      "outputs": [
        {
          "output_type": "stream",
          "text": [
            "default\n"
          ],
          "name": "stdout"
        }
      ]
    },
    {
      "cell_type": "code",
      "metadata": {
        "id": "wZe9SmFh66GX",
        "outputId": "15a05aeb-9fd4-4e76-ec56-05eb102414ec",
        "colab": {
          "base_uri": "https://localhost:8080/",
          "height": 36
        }
      },
      "source": [
        "my_func('new param')"
      ],
      "execution_count": 64,
      "outputs": [
        {
          "output_type": "stream",
          "text": [
            "new param\n"
          ],
          "name": "stdout"
        }
      ]
    },
    {
      "cell_type": "code",
      "metadata": {
        "id": "XBp5dCpT309y",
        "outputId": "4a2dce17-43ff-468a-ee66-0ab7174d71fd",
        "colab": {
          "base_uri": "https://localhost:8080/",
          "height": 36
        }
      },
      "source": [
        "my_func(param1='param 2')"
      ],
      "execution_count": 65,
      "outputs": [
        {
          "output_type": "stream",
          "text": [
            "param 2\n"
          ],
          "name": "stdout"
        }
      ]
    },
    {
      "cell_type": "code",
      "metadata": {
        "id": "ghcgw_Tgw3fi"
      },
      "source": [
        "def square(x):\n",
        "  return x**2"
      ],
      "execution_count": 66,
      "outputs": []
    },
    {
      "cell_type": "code",
      "metadata": {
        "id": "3PIitRKz-st6"
      },
      "source": [
        "out = square(4)"
      ],
      "execution_count": 69,
      "outputs": []
    },
    {
      "cell_type": "code",
      "metadata": {
        "id": "qEVZxYBg-s-u",
        "outputId": "3fe1a23f-a8da-40e4-f801-f3974c14ade1",
        "colab": {
          "base_uri": "https://localhost:8080/",
          "height": 36
        }
      },
      "source": [
        "print(out)"
      ],
      "execution_count": 70,
      "outputs": [
        {
          "output_type": "stream",
          "text": [
            "16\n"
          ],
          "name": "stdout"
        }
      ]
    },
    {
      "cell_type": "code",
      "metadata": {
        "id": "okrfpvvM-s5u"
      },
      "source": [
        "#Transform the for loop from string to a list in a function <<\n",
        "def string_to_list (str_param = 'weather change'):\n",
        " h_letters = []\n",
        " for letter in str_param:\n",
        "  h_letters.append(letter)\n",
        " return h_letters"
      ],
      "execution_count": 72,
      "outputs": []
    },
    {
      "cell_type": "code",
      "metadata": {
        "id": "WqO38Qht-s1n",
        "outputId": "91a06a44-130c-4c43-ed4a-1dc5d33dc6cc",
        "colab": {
          "base_uri": "https://localhost:8080/",
          "height": 36
        }
      },
      "source": [
        "new_variable = string_to_list('INU')\n",
        "print(new_variable)"
      ],
      "execution_count": 73,
      "outputs": [
        {
          "output_type": "stream",
          "text": [
            "['I', 'N', 'U']\n"
          ],
          "name": "stdout"
        }
      ]
    },
    {
      "cell_type": "code",
      "metadata": {
        "id": "lZDHUX1r-slG",
        "outputId": "bd27bf43-026e-4b4d-ce19-8557d180bad8",
        "colab": {
          "base_uri": "https://localhost:8080/",
          "height": 36
        }
      },
      "source": [
        "new_variable_2 = string_to_list()\n",
        "print(new_variable_2)"
      ],
      "execution_count": 74,
      "outputs": [
        {
          "output_type": "stream",
          "text": [
            "['w', 'e', 'a', 't', 'h', 'e', 'r', ' ', 'c', 'h', 'a', 'n', 'g', 'e']\n"
          ],
          "name": "stdout"
        }
      ]
    },
    {
      "cell_type": "markdown",
      "metadata": {
        "id": "ozq-sjRDBVbP"
      },
      "source": [
        "### lambda expressions"
      ]
    },
    {
      "cell_type": "code",
      "metadata": {
        "id": "wWr7JT3Z-4TP"
      },
      "source": [
        "def double(var):\n",
        "  return var*2"
      ],
      "execution_count": 75,
      "outputs": []
    },
    {
      "cell_type": "code",
      "metadata": {
        "id": "XJvCuIq9-4ce",
        "outputId": "d0c883f3-9064-448f-c651-99746c80bfbb",
        "colab": {
          "base_uri": "https://localhost:8080/",
          "height": 36
        }
      },
      "source": [
        "double(4)"
      ],
      "execution_count": 76,
      "outputs": [
        {
          "output_type": "execute_result",
          "data": {
            "text/plain": [
              "8"
            ]
          },
          "metadata": {
            "tags": []
          },
          "execution_count": 76
        }
      ]
    },
    {
      "cell_type": "code",
      "metadata": {
        "id": "EvwrLIF5-4Y1",
        "outputId": "f4ee3311-2a34-411b-b32b-a5f6973a3f21",
        "colab": {
          "base_uri": "https://localhost:8080/",
          "height": 36
        }
      },
      "source": [
        "# lambda arguments : expression\n",
        "lambda var : var * 2"
      ],
      "execution_count": 77,
      "outputs": [
        {
          "output_type": "execute_result",
          "data": {
            "text/plain": [
              "<function __main__.<lambda>>"
            ]
          },
          "metadata": {
            "tags": []
          },
          "execution_count": 77
        }
      ]
    },
    {
      "cell_type": "code",
      "metadata": {
        "id": "a3uHbL2R-3yY",
        "outputId": "1dbbbcba-a890-4289-f599-d7ad92f6ffaf",
        "colab": {
          "base_uri": "https://localhost:8080/",
          "height": 36
        }
      },
      "source": [
        "def sum_ten(x):\n",
        "  return x+10\n",
        "y = sum_ten(5)\n",
        "print(y)"
      ],
      "execution_count": 78,
      "outputs": [
        {
          "output_type": "stream",
          "text": [
            "15\n"
          ],
          "name": "stdout"
        }
      ]
    },
    {
      "cell_type": "code",
      "metadata": {
        "id": "NEXvyTJM-3uW",
        "outputId": "747454f8-0e89-4e3e-98cb-78fc5f8a6c42",
        "colab": {
          "base_uri": "https://localhost:8080/",
          "height": 36
        }
      },
      "source": [
        "y = lambda x: x+10\n",
        "print(y(5))"
      ],
      "execution_count": 79,
      "outputs": [
        {
          "output_type": "stream",
          "text": [
            "15\n"
          ],
          "name": "stdout"
        }
      ]
    },
    {
      "cell_type": "code",
      "metadata": {
        "id": "lDxe4oCJ-3qh",
        "outputId": "b57a9ef5-2888-4deb-c685-acbfd7e40760",
        "colab": {
          "base_uri": "https://localhost:8080/",
          "height": 36
        }
      },
      "source": [
        "num = 13\n",
        "even_odd =lambda i : \"Even\" if i%2 == 0 else \"Odd\"\n",
        "print(even_odd(num))"
      ],
      "execution_count": 80,
      "outputs": [
        {
          "output_type": "stream",
          "text": [
            "Odd\n"
          ],
          "name": "stdout"
        }
      ]
    },
    {
      "cell_type": "markdown",
      "metadata": {
        "id": "9DucBL-KDCjk"
      },
      "source": [
        "### map, reduce, filter and zip"
      ]
    },
    {
      "cell_type": "code",
      "metadata": {
        "id": "kMYKUogT-3nJ"
      },
      "source": [
        "seq = list(range(10)) # = [0,...,9]"
      ],
      "execution_count": 81,
      "outputs": []
    },
    {
      "cell_type": "code",
      "metadata": {
        "id": "0_C3oC-I-3jt",
        "outputId": "e384e4fc-40ce-44e4-98de-be302b59b54d",
        "colab": {
          "base_uri": "https://localhost:8080/",
          "height": 36
        }
      },
      "source": [
        "map (double, seq) #map(func, iterable)"
      ],
      "execution_count": 84,
      "outputs": [
        {
          "output_type": "execute_result",
          "data": {
            "text/plain": [
              "<map at 0x7f43af8f8eb8>"
            ]
          },
          "metadata": {
            "tags": []
          },
          "execution_count": 84
        }
      ]
    },
    {
      "cell_type": "code",
      "metadata": {
        "id": "pW9ZSxq2-3dV",
        "outputId": "c0c6dffa-1378-46ed-9dc6-671005106f0b",
        "colab": {
          "base_uri": "https://localhost:8080/",
          "height": 36
        }
      },
      "source": [
        "list(map(double,seq))"
      ],
      "execution_count": 85,
      "outputs": [
        {
          "output_type": "execute_result",
          "data": {
            "text/plain": [
              "[0, 2, 4, 6, 8, 10, 12, 14, 16, 18]"
            ]
          },
          "metadata": {
            "tags": []
          },
          "execution_count": 85
        }
      ]
    },
    {
      "cell_type": "code",
      "metadata": {
        "id": "rSua5dC--3Zl",
        "outputId": "ad522e61-c1b3-40b8-8672-accd6a2c6586",
        "colab": {
          "base_uri": "https://localhost:8080/",
          "height": 36
        }
      },
      "source": [
        "list(map(lambda var: var*2, seq))"
      ],
      "execution_count": 86,
      "outputs": [
        {
          "output_type": "execute_result",
          "data": {
            "text/plain": [
              "[0, 2, 4, 6, 8, 10, 12, 14, 16, 18]"
            ]
          },
          "metadata": {
            "tags": []
          },
          "execution_count": 86
        }
      ]
    },
    {
      "cell_type": "code",
      "metadata": {
        "id": "5AblwZnV-3V5"
      },
      "source": [
        "#Homework transform the string to a list function to lambda expression with map"
      ],
      "execution_count": null,
      "outputs": []
    },
    {
      "cell_type": "code",
      "metadata": {
        "id": "a-GZ4LeAD-bH",
        "outputId": "222799a9-7d25-417c-92c6-c2728bae3f6b",
        "colab": {
          "base_uri": "https://localhost:8080/",
          "height": 36
        }
      },
      "source": [
        "#filter (func, iterable)\n",
        "filter(lambda item: item%2 == 0, seq)"
      ],
      "execution_count": 90,
      "outputs": [
        {
          "output_type": "execute_result",
          "data": {
            "text/plain": [
              "<filter at 0x7f43af89c048>"
            ]
          },
          "metadata": {
            "tags": []
          },
          "execution_count": 90
        }
      ]
    },
    {
      "cell_type": "code",
      "metadata": {
        "id": "NdzMLYoyFFOm",
        "outputId": "0f72c6e1-9e74-4fea-ff96-51bac8924df2",
        "colab": {
          "base_uri": "https://localhost:8080/",
          "height": 36
        }
      },
      "source": [
        "list(filter(lambda item: item%2 ==0, seq))"
      ],
      "execution_count": 91,
      "outputs": [
        {
          "output_type": "execute_result",
          "data": {
            "text/plain": [
              "[0, 2, 4, 6, 8]"
            ]
          },
          "metadata": {
            "tags": []
          },
          "execution_count": 91
        }
      ]
    },
    {
      "cell_type": "code",
      "metadata": {
        "id": "IwsZrKm1D-i6",
        "outputId": "4e87b904-a2a3-4f77-80cb-f2a5320702ca",
        "colab": {
          "base_uri": "https://localhost:8080/",
          "height": 36
        }
      },
      "source": [
        "#homework remove \" \" from a string_to_list using filter\n",
        "#['w','e','a','t','h','e','r','','c','h','a','n','g','e'] ->\n",
        "#['w','e','a','t','h','e','r','c','h','a','n','g','e'] "
      ],
      "execution_count": 88,
      "outputs": [
        {
          "output_type": "execute_result",
          "data": {
            "text/plain": [
              "[0]"
            ]
          },
          "metadata": {
            "tags": []
          },
          "execution_count": 88
        }
      ]
    },
    {
      "cell_type": "code",
      "metadata": {
        "id": "3SiA-sftD-oS"
      },
      "source": [
        "from functools import reduce # reduce(func, iterable)"
      ],
      "execution_count": 92,
      "outputs": []
    },
    {
      "cell_type": "code",
      "metadata": {
        "id": "k-iKwImVD-Rv",
        "outputId": "713e0fd8-094d-4fa6-d9a3-e1b6fd8d40c1",
        "colab": {
          "base_uri": "https://localhost:8080/",
          "height": 36
        }
      },
      "source": [
        "reduce (lambda x,y: x+y, range(4)) # = 0+1+2+3"
      ],
      "execution_count": 93,
      "outputs": [
        {
          "output_type": "execute_result",
          "data": {
            "text/plain": [
              "6"
            ]
          },
          "metadata": {
            "tags": []
          },
          "execution_count": 93
        }
      ]
    },
    {
      "cell_type": "code",
      "metadata": {
        "id": "YUkIDFll-sg1",
        "outputId": "18cfde0f-a05c-4bd6-cfec-542ed0826efd",
        "colab": {
          "base_uri": "https://localhost:8080/",
          "height": 36
        }
      },
      "source": [
        "reduce (lambda x,y: x*y, [1,2,3,4]) # = 1 * 2 * 3 * 4"
      ],
      "execution_count": 94,
      "outputs": [
        {
          "output_type": "execute_result",
          "data": {
            "text/plain": [
              "24"
            ]
          },
          "metadata": {
            "tags": []
          },
          "execution_count": 94
        }
      ]
    },
    {
      "cell_type": "code",
      "metadata": {
        "id": "KIMfLauZGNhD"
      },
      "source": [
        ""
      ],
      "execution_count": null,
      "outputs": []
    },
    {
      "cell_type": "code",
      "metadata": {
        "id": "Y-NGxzvJGNmw"
      },
      "source": [
        ""
      ],
      "execution_count": null,
      "outputs": []
    },
    {
      "cell_type": "code",
      "metadata": {
        "id": "N2at-OJSGNy0"
      },
      "source": [
        ""
      ],
      "execution_count": null,
      "outputs": []
    },
    {
      "cell_type": "code",
      "metadata": {
        "id": "cQeTvNvkGNu0"
      },
      "source": [
        ""
      ],
      "execution_count": null,
      "outputs": []
    },
    {
      "cell_type": "code",
      "metadata": {
        "id": "6Re0gQFNGNWy"
      },
      "source": [
        ""
      ],
      "execution_count": null,
      "outputs": []
    },
    {
      "cell_type": "code",
      "metadata": {
        "id": "bqHfFiUKuBWG"
      },
      "source": [
        ""
      ],
      "execution_count": null,
      "outputs": []
    }
  ]
}